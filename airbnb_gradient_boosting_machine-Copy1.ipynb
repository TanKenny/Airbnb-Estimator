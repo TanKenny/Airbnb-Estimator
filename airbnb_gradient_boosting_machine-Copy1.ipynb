{
 "cells": [
  {
   "cell_type": "code",
   "execution_count": 1,
   "metadata": {},
   "outputs": [
    {
     "name": "stdout",
     "output_type": "stream",
     "text": [
      "Requirement already satisfied: eli5 in /home/ec2-user/anaconda3/envs/python3/lib/python3.6/site-packages (0.8.2)\n",
      "Requirement already satisfied: graphviz in /home/ec2-user/anaconda3/envs/python3/lib/python3.6/site-packages (from eli5) (0.10.1)\n",
      "Requirement already satisfied: scikit-learn>=0.18 in /home/ec2-user/anaconda3/envs/python3/lib/python3.6/site-packages (from eli5) (0.19.1)\n",
      "Requirement already satisfied: jinja2 in /home/ec2-user/anaconda3/envs/python3/lib/python3.6/site-packages (from eli5) (2.10)\n",
      "Requirement already satisfied: typing in /home/ec2-user/anaconda3/envs/python3/lib/python3.6/site-packages (from eli5) (3.6.4)\n",
      "Requirement already satisfied: attrs>16.0.0 in /home/ec2-user/anaconda3/envs/python3/lib/python3.6/site-packages (from eli5) (18.1.0)\n",
      "Requirement already satisfied: scipy in /home/ec2-user/anaconda3/envs/python3/lib/python3.6/site-packages (from eli5) (1.1.0)\n",
      "Requirement already satisfied: six in /home/ec2-user/anaconda3/envs/python3/lib/python3.6/site-packages (from eli5) (1.11.0)\n",
      "Requirement already satisfied: tabulate>=0.7.7 in /home/ec2-user/anaconda3/envs/python3/lib/python3.6/site-packages (from eli5) (0.8.3)\n",
      "Requirement already satisfied: numpy>=1.9.0 in /home/ec2-user/anaconda3/envs/python3/lib/python3.6/site-packages (from eli5) (1.15.4)\n",
      "Requirement already satisfied: MarkupSafe>=0.23 in /home/ec2-user/anaconda3/envs/python3/lib/python3.6/site-packages (from jinja2->eli5) (1.0)\n",
      "\u001b[33mYou are using pip version 10.0.1, however version 19.1.1 is available.\n",
      "You should consider upgrading via the 'pip install --upgrade pip' command.\u001b[0m\n"
     ]
    }
   ],
   "source": [
    "!pip install eli5"
   ]
  },
  {
   "cell_type": "code",
   "execution_count": 2,
   "metadata": {},
   "outputs": [],
   "source": [
    "import pandas as pd\n",
    "import numpy as np\n",
    "import warnings\n",
    "warnings.filterwarnings('ignore')"
   ]
  },
  {
   "cell_type": "code",
   "execution_count": null,
   "metadata": {},
   "outputs": [],
   "source": [
    "df = pd.read_csv(\"s3://datasetairbnb/airbnb_cleaned_winter.csv\")"
   ]
  },
  {
   "cell_type": "code",
   "execution_count": null,
   "metadata": {
    "scrolled": true
   },
   "outputs": [],
   "source": [
    "df"
   ]
  },
  {
   "cell_type": "code",
   "execution_count": null,
   "metadata": {
    "scrolled": false
   },
   "outputs": [],
   "source": []
  },
  {
   "cell_type": "code",
   "execution_count": 5,
   "metadata": {},
   "outputs": [],
   "source": [
    "list = []"
   ]
  },
  {
   "cell_type": "code",
   "execution_count": 6,
   "metadata": {},
   "outputs": [],
   "source": [
    "for i in df.neighbourhood_cleansed:\n",
    "    if i not in list:\n",
    "        list.append(i)"
   ]
  },
  {
   "cell_type": "code",
   "execution_count": 7,
   "metadata": {},
   "outputs": [],
   "source": [
    "list.sort()"
   ]
  },
  {
   "cell_type": "code",
   "execution_count": 8,
   "metadata": {},
   "outputs": [
    {
     "data": {
      "text/plain": [
       "['allerton',\n",
       " 'ardenheights',\n",
       " 'arrochar',\n",
       " 'arverne',\n",
       " 'astoria',\n",
       " 'bathbeach',\n",
       " 'batteryparkcity',\n",
       " 'baychester',\n",
       " 'bayridge',\n",
       " 'bayside',\n",
       " 'bayswater',\n",
       " 'bayterrace',\n",
       " 'bayterrace,statenisland',\n",
       " 'bedford-stuyvesant',\n",
       " 'belleharbor',\n",
       " 'bellerose',\n",
       " 'belmont',\n",
       " 'bensonhurst',\n",
       " 'bergenbeach',\n",
       " 'boerumhill',\n",
       " 'boroughpark',\n",
       " 'breezypoint',\n",
       " 'briarwood',\n",
       " 'brightonbeach',\n",
       " 'bronxdale',\n",
       " 'brooklynheights',\n",
       " 'brownsville',\n",
       " \"bull'shead\",\n",
       " 'bushwick',\n",
       " 'cambriaheights',\n",
       " 'canarsie',\n",
       " 'carrollgardens',\n",
       " 'castlehill',\n",
       " 'castletoncorners',\n",
       " 'chelsea',\n",
       " 'chinatown',\n",
       " 'cityisland',\n",
       " 'civiccenter',\n",
       " 'claremontvillage',\n",
       " 'clasonpoint',\n",
       " 'clifton',\n",
       " 'clintonhill',\n",
       " 'co-opcity',\n",
       " 'cobblehill',\n",
       " 'collegepoint',\n",
       " 'columbiast',\n",
       " 'concord',\n",
       " 'concourse',\n",
       " 'concoursevillage',\n",
       " 'coneyisland',\n",
       " 'corona',\n",
       " 'crownheights',\n",
       " 'cypresshills',\n",
       " 'ditmarssteinway',\n",
       " 'donganhills',\n",
       " 'douglaston',\n",
       " 'downtownbrooklyn',\n",
       " 'dumbo',\n",
       " 'dykerheights',\n",
       " 'eastchester',\n",
       " 'eastelmhurst',\n",
       " 'eastflatbush',\n",
       " 'eastharlem',\n",
       " 'eastmorrisania',\n",
       " 'eastnewyork',\n",
       " 'eastvillage',\n",
       " 'edenwald',\n",
       " 'edgemere',\n",
       " 'elmhurst',\n",
       " 'eltingville',\n",
       " 'emersonhill',\n",
       " 'farrockaway',\n",
       " 'fieldston',\n",
       " 'financialdistrict',\n",
       " 'flatbush',\n",
       " 'flatirondistrict',\n",
       " 'flatlands',\n",
       " 'flushing',\n",
       " 'fordham',\n",
       " 'foresthills',\n",
       " 'fortgreene',\n",
       " 'forthamilton',\n",
       " 'fortwadsworth',\n",
       " 'freshmeadows',\n",
       " 'gerritsenbeach',\n",
       " 'glendale',\n",
       " 'glenoaks',\n",
       " 'gowanus',\n",
       " 'gramercy',\n",
       " 'graniteville',\n",
       " 'grantcity',\n",
       " 'gravesend',\n",
       " 'greatkills',\n",
       " 'greenpoint',\n",
       " 'greenwichvillage',\n",
       " 'grymeshill',\n",
       " 'harlem',\n",
       " \"hell'skitchen\",\n",
       " 'highbridge',\n",
       " 'hollis',\n",
       " 'hollishills',\n",
       " 'holliswood',\n",
       " 'howardbeach',\n",
       " 'howlandhook',\n",
       " 'huguenot',\n",
       " 'huntspoint',\n",
       " 'inwood',\n",
       " 'jacksonheights',\n",
       " 'jamaica',\n",
       " 'jamaicaestates',\n",
       " 'jamaicahills',\n",
       " 'kensington',\n",
       " 'kewgardens',\n",
       " 'kewgardenshills',\n",
       " 'kingsbridge',\n",
       " 'kipsbay',\n",
       " 'laurelton',\n",
       " 'lighthousehill',\n",
       " 'littleitaly',\n",
       " 'littleneck',\n",
       " 'longislandcity',\n",
       " 'longwood',\n",
       " 'lowereastside',\n",
       " 'manhattanbeach',\n",
       " 'marblehill',\n",
       " 'marinersharbor',\n",
       " 'maspeth',\n",
       " 'melrose',\n",
       " 'middlevillage',\n",
       " 'midlandbeach',\n",
       " 'midtown',\n",
       " 'midwood',\n",
       " 'millbasin',\n",
       " 'morningsideheights',\n",
       " 'morrisania',\n",
       " 'morrisheights',\n",
       " 'morrispark',\n",
       " 'motthaven',\n",
       " 'mounteden',\n",
       " 'mounthope',\n",
       " 'murrayhill',\n",
       " 'navyyard',\n",
       " 'neponsit',\n",
       " 'newbrighton',\n",
       " 'newdorp',\n",
       " 'newdorpbeach',\n",
       " 'newspringville',\n",
       " 'noho',\n",
       " 'nolita',\n",
       " 'northriverdale',\n",
       " 'norwood',\n",
       " 'oakwood',\n",
       " 'olinville',\n",
       " 'ozonepark',\n",
       " 'parkchester',\n",
       " 'parkslope',\n",
       " 'pelhambay',\n",
       " 'pelhamgardens',\n",
       " 'pleasantplains',\n",
       " 'portivory',\n",
       " 'portmorris',\n",
       " 'portrichmond',\n",
       " \"prince'sbay\",\n",
       " 'prospect-leffertsgardens',\n",
       " 'prospectheights',\n",
       " 'queensvillage',\n",
       " 'randallmanor',\n",
       " 'redhook',\n",
       " 'regopark',\n",
       " 'richmondhill',\n",
       " 'richmondtown',\n",
       " 'ridgewood',\n",
       " 'riverdale',\n",
       " 'rockawaybeach',\n",
       " 'rooseveltisland',\n",
       " 'rosebank',\n",
       " 'rosedale',\n",
       " 'rossville',\n",
       " 'schuylerville',\n",
       " 'seagate',\n",
       " 'sheepsheadbay',\n",
       " 'shoreacres',\n",
       " 'silverlake',\n",
       " 'soho',\n",
       " 'soundview',\n",
       " 'southbeach',\n",
       " 'southozonepark',\n",
       " 'southslope',\n",
       " 'springfieldgardens',\n",
       " 'spuytenduyvil',\n",
       " 'st.albans',\n",
       " 'st.george',\n",
       " 'stapleton',\n",
       " 'stuyvesanttown',\n",
       " 'sunnyside',\n",
       " 'sunsetpark',\n",
       " 'theaterdistrict',\n",
       " 'throgsneck',\n",
       " 'todthill',\n",
       " 'tompkinsville',\n",
       " 'tottenville',\n",
       " 'tremont',\n",
       " 'tribeca',\n",
       " 'twobridges',\n",
       " 'unionport',\n",
       " 'universityheights',\n",
       " 'uppereastside',\n",
       " 'upperwestside',\n",
       " 'vannest',\n",
       " 'vinegarhill',\n",
       " 'wakefield',\n",
       " 'washingtonheights',\n",
       " 'westbrighton',\n",
       " 'westchestersquare',\n",
       " 'westerleigh',\n",
       " 'westfarms',\n",
       " 'westvillage',\n",
       " 'whitestone',\n",
       " 'williamsbridge',\n",
       " 'williamsburg',\n",
       " 'willowbrook',\n",
       " 'windsorterrace',\n",
       " 'woodhaven',\n",
       " 'woodlawn',\n",
       " 'woodrow',\n",
       " 'woodside']"
      ]
     },
     "execution_count": 8,
     "metadata": {},
     "output_type": "execute_result"
    }
   ],
   "source": [
    "list"
   ]
  },
  {
   "cell_type": "markdown",
   "metadata": {},
   "source": [
    "## Gradient Boosting Machine"
   ]
  },
  {
   "cell_type": "code",
   "execution_count": 9,
   "metadata": {},
   "outputs": [
    {
     "name": "stderr",
     "output_type": "stream",
     "text": [
      "/home/ec2-user/anaconda3/envs/python3/lib/python3.6/site-packages/sklearn/ensemble/weight_boosting.py:29: DeprecationWarning: numpy.core.umath_tests is an internal NumPy module and should not be imported. It will be removed in a future NumPy release.\n",
      "  from numpy.core.umath_tests import inner1d\n"
     ]
    }
   ],
   "source": [
    "import math\n",
    "import eli5\n",
    "from sklearn.metrics import r2_score\n",
    "from sklearn.model_selection import train_test_split\n",
    "from sklearn.ensemble import GradientBoostingRegressor\n",
    "from sklearn.model_selection import RandomizedSearchCV\n",
    "from eli5.sklearn import PermutationImportance"
   ]
  },
  {
   "cell_type": "code",
   "execution_count": 20,
   "metadata": {},
   "outputs": [
    {
     "name": "stdout",
     "output_type": "stream",
     "text": [
      "<class 'pandas.core.frame.DataFrame'>\n",
      "Int64Index: 24027 entries, 5 to 268611\n",
      "Data columns (total 20 columns):\n",
      "Unnamed: 0                24027 non-null int64\n",
      "id                        24027 non-null int64\n",
      "host_id                   24027 non-null int64\n",
      "scrape_id                 24027 non-null int64\n",
      "zipcode                   24027 non-null object\n",
      "neighbourhood_cleansed    24027 non-null object\n",
      "property_type             24027 non-null int64\n",
      "room_type                 24027 non-null float64\n",
      "accommodates              24027 non-null int64\n",
      "bedrooms                  24027 non-null float64\n",
      "beds                      24027 non-null float64\n",
      "bed_type                  24027 non-null float64\n",
      "price                     24027 non-null float64\n",
      "number_of_reviews         24027 non-null int64\n",
      "review_scores_rating      24027 non-null float64\n",
      "availability_30           24027 non-null int64\n",
      "minimum_nights            24027 non-null int64\n",
      "bathrooms                 24027 non-null float64\n",
      "host_is_superhost         24027 non-null float64\n",
      "host_response_rate        24027 non-null float64\n",
      "dtypes: float64(9), int64(9), object(2)\n",
      "memory usage: 3.8+ MB\n"
     ]
    }
   ],
   "source": [
    "def LRfindAveragePrice(location):\n",
    "    return (df[(df.neighbourhood_cleansed == location)])\n",
    "        \n",
    "\n",
    "area = LRfindAveragePrice('williamsburg')\n",
    "area.drop(['neighbourhood_cleansed'], axis=1)\n",
    "area.info()"
   ]
  },
  {
   "cell_type": "code",
   "execution_count": null,
   "metadata": {},
   "outputs": [],
   "source": [
    "\n"
   ]
  },
  {
   "cell_type": "code",
   "execution_count": 23,
   "metadata": {},
   "outputs": [],
   "source": [
    "y = area['price']\n",
    "X = area.drop(['price', 'Unnamed: 0', 'id', 'host_id', 'scrape_id', 'zipcode', 'neighbourhood_cleansed'], axis=1) \n",
    "X_train, X_val, y_train, y_val = train_test_split(X, y, random_state=42)"
   ]
  },
  {
   "cell_type": "code",
   "execution_count": 24,
   "metadata": {},
   "outputs": [
    {
     "name": "stdout",
     "output_type": "stream",
     "text": [
      "0.681728167209942\n",
      "CPU times: user 410 ms, sys: 0 ns, total: 410 ms\n",
      "Wall time: 409 ms\n"
     ]
    }
   ],
   "source": [
    "%%time \n",
    "regr = GradientBoostingRegressor(n_estimators=32, learning_rate=0.24, max_depth=4, subsample=1.0,\n",
    "                                 random_state=42)\n",
    "regr.fit(X_train, y_train)\n",
    "print(r2_score(y_val, regr.predict(X_val)))\n",
    "\n",
    "#R^2 score"
   ]
  },
  {
   "cell_type": "code",
   "execution_count": null,
   "metadata": {},
   "outputs": [],
   "source": [
    "perm = PermutationImportance(regr, random_state=42).fit(X_val, y_val)\n",
    "eli5.show_weights(perm, top=X.shape[1], feature_names = X.columns.tolist())"
   ]
  },
  {
   "cell_type": "code",
   "execution_count": null,
   "metadata": {},
   "outputs": [],
   "source": [
    "area['price'].mean()"
   ]
  }
 ],
 "metadata": {
  "kernelspec": {
   "display_name": "conda_python3",
   "language": "python",
   "name": "conda_python3"
  },
  "language_info": {
   "codemirror_mode": {
    "name": "ipython",
    "version": 3
   },
   "file_extension": ".py",
   "mimetype": "text/x-python",
   "name": "python",
   "nbconvert_exporter": "python",
   "pygments_lexer": "ipython3",
   "version": "3.6.5"
  }
 },
 "nbformat": 4,
 "nbformat_minor": 2
}
