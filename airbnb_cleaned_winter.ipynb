{
 "cells": [
  {
   "cell_type": "code",
   "execution_count": 1,
   "metadata": {},
   "outputs": [],
   "source": [
    "import pandas as pd\n",
    "import numpy as np\n",
    "import matplotlib.pyplot as plt\n",
    "import seaborn as sns\n",
    "import matplotlib as mpl\n",
    "import matplotlib.pyplot as plt\n",
    "\n",
    "%matplotlib inline\n",
    "import warnings\n",
    "warnings.filterwarnings('ignore')"
   ]
  },
  {
   "cell_type": "code",
   "execution_count": 2,
   "metadata": {},
   "outputs": [],
   "source": [
    "df_1 = pd.read_csv('s3://datasetairbnb/dataset/listingsJanuary.csv', encoding='Latin-1', sep=',', error_bad_lines=False, index_col=False, low_memory=False)\n",
    "df_2 = pd.read_csv('s3://datasetairbnb/dataset/listingsFebruary.csv', encoding='Latin-1', sep=',', error_bad_lines=False, index_col=False, low_memory=False)\n",
    "df_12 = pd.read_csv('s3://datasetairbnb/dataset/listingsDecember.csv', encoding='Latin-1', sep=',', error_bad_lines=False, index_col=False, low_memory=False)\n",
    "\n",
    "df_13 = pd.read_csv('s3://datasetairbnb/dataset/listings_2017/january.csv', encoding='Latin-1', sep=',', error_bad_lines=False, index_col=False, low_memory=False)\n",
    "df_14 = pd.read_csv('s3://datasetairbnb/dataset/listings_2017/february.csv', encoding='Latin-1', sep=',', error_bad_lines=False, index_col=False, low_memory=False)\n",
    "df_24 = pd.read_csv('s3://datasetairbnb/dataset/listings_2017/december.csv', encoding='Latin-1', sep=',', error_bad_lines=False, index_col=False, low_memory=False)\n"
   ]
  },
  {
   "cell_type": "code",
   "execution_count": 3,
   "metadata": {},
   "outputs": [],
   "source": [
    "df_winter_seasonality = pd.concat([df_12, df_1, df_2, df_24, df_13, df_14], ignore_index=True)"
   ]
  },
  {
   "cell_type": "code",
   "execution_count": 4,
   "metadata": {},
   "outputs": [],
   "source": [
    "df_winter = df_winter_seasonality[[\n",
    "    'id',\n",
    "    'host_id',\n",
    "    'scrape_id',\n",
    "    'zipcode',\n",
    "    'neighbourhood_cleansed',\n",
    "    'property_type',\n",
    "    'room_type',\n",
    "    'accommodates',\n",
    "    'bedrooms',\n",
    "    'beds',\n",
    "    'bed_type',\n",
    "    'price',\n",
    "    'number_of_reviews',\n",
    "    'review_scores_rating',\n",
    "    'availability_30',\n",
    "    'minimum_nights',\n",
    "    'bathrooms',\n",
    "    'host_is_superhost',\n",
    "    'host_response_rate'\n",
    "]]\n"
   ]
  },
  {
   "cell_type": "code",
   "execution_count": 5,
   "metadata": {},
   "outputs": [
    {
     "name": "stdout",
     "output_type": "stream",
     "text": [
      "<class 'pandas.core.frame.DataFrame'>\n",
      "RangeIndex: 275931 entries, 0 to 275930\n",
      "Data columns (total 19 columns):\n",
      "id                        275931 non-null int64\n",
      "host_id                   275931 non-null int64\n",
      "scrape_id                 275931 non-null int64\n",
      "zipcode                   272035 non-null object\n",
      "neighbourhood_cleansed    275931 non-null object\n",
      "property_type             275931 non-null object\n",
      "room_type                 275931 non-null object\n",
      "accommodates              275931 non-null int64\n",
      "bedrooms                  275561 non-null float64\n",
      "beds                      275509 non-null float64\n",
      "bed_type                  275931 non-null object\n",
      "price                     275931 non-null object\n",
      "number_of_reviews         275931 non-null int64\n",
      "review_scores_rating      209354 non-null float64\n",
      "availability_30           275931 non-null int64\n",
      "minimum_nights            275931 non-null int64\n",
      "bathrooms                 275072 non-null float64\n",
      "host_is_superhost         275278 non-null object\n",
      "host_response_rate        183400 non-null object\n",
      "dtypes: float64(4), int64(7), object(8)\n",
      "memory usage: 40.0+ MB\n"
     ]
    }
   ],
   "source": [
    "df_winter.info()"
   ]
  },
  {
   "cell_type": "code",
   "execution_count": 6,
   "metadata": {},
   "outputs": [
    {
     "name": "stdout",
     "output_type": "stream",
     "text": [
      "id, Number of Missing Values: 0\n",
      "host_id, Number of Missing Values: 0\n",
      "scrape_id, Number of Missing Values: 0\n",
      "zipcode, Number of Missing Values: 3896\n",
      "neighbourhood_cleansed, Number of Missing Values: 0\n",
      "property_type, Number of Missing Values: 0\n",
      "room_type, Number of Missing Values: 0\n",
      "accommodates, Number of Missing Values: 0\n",
      "bedrooms, Number of Missing Values: 370\n",
      "beds, Number of Missing Values: 422\n",
      "bed_type, Number of Missing Values: 0\n",
      "price, Number of Missing Values: 0\n",
      "number_of_reviews, Number of Missing Values: 0\n",
      "review_scores_rating, Number of Missing Values: 66577\n",
      "availability_30, Number of Missing Values: 0\n",
      "minimum_nights, Number of Missing Values: 0\n",
      "bathrooms, Number of Missing Values: 859\n",
      "host_is_superhost, Number of Missing Values: 653\n",
      "host_response_rate, Number of Missing Values: 92531\n"
     ]
    }
   ],
   "source": [
    "# determine the number of missing entries in each column\n",
    "for col in df_winter.columns:\n",
    "    print (col + ', Number of Missing Values:', len(df_winter[col][df_winter[col].isnull()]))"
   ]
  },
  {
   "cell_type": "code",
   "execution_count": 7,
   "metadata": {},
   "outputs": [
    {
     "name": "stdout",
     "output_type": "stream",
     "text": [
      "Number of NaN values removed: 5230\n"
     ]
    }
   ],
   "source": [
    "original_winter = len(df_winter)\n",
    "df_winter = df_winter.dropna(how='any', subset=['zipcode', 'property_type', 'bedrooms', 'beds', 'bathrooms'])\n",
    "print ('Number of NaN values removed:', original_winter - len(df_winter))\n"
   ]
  },
  {
   "cell_type": "code",
   "execution_count": 8,
   "metadata": {},
   "outputs": [],
   "source": [
    "# drop $ and , \n",
    "df_winter['price'] = df_winter['price'].astype(str).str.replace('$', '')\n",
    "df_winter['price'] = df_winter['price'].astype(str).str.replace(',', '')\n",
    "df_winter['price'] = df_winter['price'].str.strip()\n",
    "df_winter['price'] = df_winter['price'].astype(float)\n"
   ]
  },
  {
   "cell_type": "code",
   "execution_count": 9,
   "metadata": {},
   "outputs": [],
   "source": [
    "# drop % && convert to float\n",
    "df_winter['host_response_rate'].fillna(0, inplace=True)\n",
    "df_winter['host_response_rate'] = df_winter['host_response_rate'].astype(str).str.replace('%', '')\n",
    "df_winter['host_response_rate'] = df_winter['host_response_rate'].astype(str).str.replace(',', '')\n",
    "df_winter['host_response_rate'] = df_winter['host_response_rate'].str.strip()\n",
    "df_winter['host_response_rate'] = df_winter['host_response_rate'].astype(float)"
   ]
  },
  {
   "cell_type": "code",
   "execution_count": 10,
   "metadata": {},
   "outputs": [],
   "source": [
    "# host_is_superhost\n",
    "df_winter.host_is_superhost[df_winter.host_is_superhost == 't'] = 1\n",
    "df_winter.host_is_superhost[df_winter.host_is_superhost == 'f'] = 0\n",
    "df_winter.host_is_superhost = df_winter.host_is_superhost.astype(float)\n"
   ]
  },
  {
   "cell_type": "markdown",
   "metadata": {},
   "source": [
    "threshold=100\n",
    "df['count'] = df_cols.groupby('property_type')['property_type'].transform(pd.Series.value_counts)\n",
    "df_cols=df[df['count']>=threshold]\n",
    "df_cols.drop(['count'], axis = 1, inplace = True)"
   ]
  },
  {
   "cell_type": "code",
   "execution_count": null,
   "metadata": {},
   "outputs": [],
   "source": []
  },
  {
   "cell_type": "code",
   "execution_count": 11,
   "metadata": {
    "scrolled": true
   },
   "outputs": [],
   "source": [
    "df_winter = df_winter.groupby('property_type').filter(lambda x : len(x)>500)"
   ]
  },
  {
   "cell_type": "code",
   "execution_count": 12,
   "metadata": {},
   "outputs": [
    {
     "name": "stdout",
     "output_type": "stream",
     "text": [
      "<class 'pandas.core.frame.DataFrame'>\n",
      "Int64Index: 268636 entries, 0 to 275930\n",
      "Data columns (total 19 columns):\n",
      "id                        268636 non-null int64\n",
      "host_id                   268636 non-null int64\n",
      "scrape_id                 268636 non-null int64\n",
      "zipcode                   268636 non-null object\n",
      "neighbourhood_cleansed    268636 non-null object\n",
      "property_type             268636 non-null object\n",
      "room_type                 268636 non-null object\n",
      "accommodates              268636 non-null int64\n",
      "bedrooms                  268636 non-null float64\n",
      "beds                      268636 non-null float64\n",
      "bed_type                  268636 non-null object\n",
      "price                     268636 non-null float64\n",
      "number_of_reviews         268636 non-null int64\n",
      "review_scores_rating      204238 non-null float64\n",
      "availability_30           268636 non-null int64\n",
      "minimum_nights            268636 non-null int64\n",
      "bathrooms                 268636 non-null float64\n",
      "host_is_superhost         268001 non-null float64\n",
      "host_response_rate        268636 non-null float64\n",
      "dtypes: float64(7), int64(7), object(5)\n",
      "memory usage: 41.0+ MB\n"
     ]
    }
   ],
   "source": [
    "df_winter.info()"
   ]
  },
  {
   "cell_type": "code",
   "execution_count": 13,
   "metadata": {},
   "outputs": [
    {
     "data": {
      "text/plain": [
       "0                            Harlem\n",
       "1                   Upper West Side\n",
       "2                        Kensington\n",
       "3                           Midtown\n",
       "4                            Harlem\n",
       "5                      Williamsburg\n",
       "6                           Chelsea\n",
       "7                            Harlem\n",
       "8                Bedford-Stuyvesant\n",
       "9                            Harlem\n",
       "10                     Clinton Hill\n",
       "11                  Carroll Gardens\n",
       "13                     Clinton Hill\n",
       "15                      Murray Hill\n",
       "16                           Harlem\n",
       "18                   Hell's Kitchen\n",
       "19                     West Village\n",
       "20                  Upper West Side\n",
       "21                     Williamsburg\n",
       "22                       Park Slope\n",
       "24               Bedford-Stuyvesant\n",
       "25                        Chinatown\n",
       "26                     Williamsburg\n",
       "27                  Upper West Side\n",
       "28                   Hell's Kitchen\n",
       "29                           Harlem\n",
       "30                  Upper East Side\n",
       "31                   Hell's Kitchen\n",
       "32                      South Slope\n",
       "33                          Gowanus\n",
       "                    ...            \n",
       "275901                 Williamsburg\n",
       "275902                 Williamsburg\n",
       "275903                 Williamsburg\n",
       "275904                 Williamsburg\n",
       "275905                 Williamsburg\n",
       "275906                 Williamsburg\n",
       "275907                  Willowbrook\n",
       "275908                   West Farms\n",
       "275909              Windsor Terrace\n",
       "275910                       Inwood\n",
       "275911           Financial District\n",
       "275912              Mariners Harbor\n",
       "275913              Cambria Heights\n",
       "275914                    Bellerose\n",
       "275915                      Midwood\n",
       "275916                      Astoria\n",
       "275917              Upper East Side\n",
       "275918    Prospect-Lefferts Gardens\n",
       "275919                  East Harlem\n",
       "275920                    Flatlands\n",
       "275921                 Borough Park\n",
       "275922    Prospect-Lefferts Gardens\n",
       "275923                   Park Slope\n",
       "275924                 Belle Harbor\n",
       "275925                  East Harlem\n",
       "275926                      Midtown\n",
       "275927                      Midwood\n",
       "275928                       Harlem\n",
       "275929             Prospect Heights\n",
       "275930                     Kips Bay\n",
       "Name: neighbourhood_cleansed, Length: 268636, dtype: object"
      ]
     },
     "execution_count": 13,
     "metadata": {},
     "output_type": "execute_result"
    }
   ],
   "source": [
    "df_winter['neighbourhood_cleansed']"
   ]
  },
  {
   "cell_type": "code",
   "execution_count": 14,
   "metadata": {},
   "outputs": [],
   "source": [
    "df_winter['neighbourhood_cleansed'] = df_winter['neighbourhood_cleansed'].str.lower()\n",
    "df_winter.neighbourhood_cleansed = df_winter.neighbourhood_cleansed.str.replace(' ', '')"
   ]
  },
  {
   "cell_type": "code",
   "execution_count": 15,
   "metadata": {},
   "outputs": [
    {
     "data": {
      "text/plain": [
       "0                           harlem\n",
       "1                    upperwestside\n",
       "2                       kensington\n",
       "3                          midtown\n",
       "4                           harlem\n",
       "5                     williamsburg\n",
       "6                          chelsea\n",
       "7                           harlem\n",
       "8               bedford-stuyvesant\n",
       "9                           harlem\n",
       "10                     clintonhill\n",
       "11                  carrollgardens\n",
       "13                     clintonhill\n",
       "15                      murrayhill\n",
       "16                          harlem\n",
       "18                   hell'skitchen\n",
       "19                     westvillage\n",
       "20                   upperwestside\n",
       "21                    williamsburg\n",
       "22                       parkslope\n",
       "24              bedford-stuyvesant\n",
       "25                       chinatown\n",
       "26                    williamsburg\n",
       "27                   upperwestside\n",
       "28                   hell'skitchen\n",
       "29                          harlem\n",
       "30                   uppereastside\n",
       "31                   hell'skitchen\n",
       "32                      southslope\n",
       "33                         gowanus\n",
       "                    ...           \n",
       "275901                williamsburg\n",
       "275902                williamsburg\n",
       "275903                williamsburg\n",
       "275904                williamsburg\n",
       "275905                williamsburg\n",
       "275906                williamsburg\n",
       "275907                 willowbrook\n",
       "275908                   westfarms\n",
       "275909              windsorterrace\n",
       "275910                      inwood\n",
       "275911           financialdistrict\n",
       "275912              marinersharbor\n",
       "275913              cambriaheights\n",
       "275914                   bellerose\n",
       "275915                     midwood\n",
       "275916                     astoria\n",
       "275917               uppereastside\n",
       "275918    prospect-leffertsgardens\n",
       "275919                  eastharlem\n",
       "275920                   flatlands\n",
       "275921                 boroughpark\n",
       "275922    prospect-leffertsgardens\n",
       "275923                   parkslope\n",
       "275924                 belleharbor\n",
       "275925                  eastharlem\n",
       "275926                     midtown\n",
       "275927                     midwood\n",
       "275928                      harlem\n",
       "275929             prospectheights\n",
       "275930                     kipsbay\n",
       "Name: neighbourhood_cleansed, Length: 268636, dtype: object"
      ]
     },
     "execution_count": 15,
     "metadata": {},
     "output_type": "execute_result"
    }
   ],
   "source": [
    "df_winter['neighbourhood_cleansed']"
   ]
  },
  {
   "cell_type": "code",
   "execution_count": 16,
   "metadata": {},
   "outputs": [],
   "source": [
    "df_winter.room_type[df_winter.room_type == 'Entire home/apt'] = 1.0000000\n",
    "df_winter.room_type[df_winter.room_type == 'Private room'] = 1.01\n",
    "df_winter.room_type[df_winter.room_type == 'Shared room'] = 1.02\n",
    "df_winter.room_type = df_winter.room_type.astype(float)\n"
   ]
  },
  {
   "cell_type": "code",
   "execution_count": 17,
   "metadata": {},
   "outputs": [],
   "source": [
    "cleanup_proptype = {'Apartment': 1, 'House': 2, 'Townhouse': 3, 'Loft': 4, 'Condominium': 5, 'Serviced apartment': 6,  'Guest suite': 7, 'Other': 8,\n",
    "                     'Bed and breakfast': 9, 'Bed & Breakfast': 9, 'Boutique hotel': 10, 'Resort': 11, 'Guesthouse': 12, 'Hostel': 13, 'Hotel': 14, 'Bungalow': 15,\n",
    "                    'Villa': 16, 'Tiny house': 17, 'Aparthotel': 18, 'Boat': 19, 'Cottage': 20, 'Tent': 21, 'Camper/RV': 22, 'Cabin': 23, 'Casa particular (Cuba)': 24,\n",
    "                   'Castle': 25, 'Houseboat': 26, 'Earth house': 27, 'Nature lodge': 28, 'Cave': 29, 'Train': 30, 'Timeshare': 31, 'Island': 32, 'Bus': 33, 'Chalet': 34\n",
    "                   }\n",
    "df_winter['property_type'].replace(cleanup_proptype, inplace=True)"
   ]
  },
  {
   "cell_type": "code",
   "execution_count": 18,
   "metadata": {},
   "outputs": [
    {
     "data": {
      "text/plain": [
       "0         1.00\n",
       "1         1.00\n",
       "2         1.00\n",
       "3         1.00\n",
       "4         1.00\n",
       "5         1.00\n",
       "6         1.00\n",
       "7         1.02\n",
       "8         1.00\n",
       "9         1.00\n",
       "10        1.00\n",
       "11        1.00\n",
       "13        1.00\n",
       "15        1.00\n",
       "16        1.00\n",
       "18        1.00\n",
       "19        1.00\n",
       "20        1.00\n",
       "21        1.00\n",
       "22        1.00\n",
       "24        1.00\n",
       "25        1.00\n",
       "26        1.00\n",
       "27        1.00\n",
       "28        1.00\n",
       "29        1.00\n",
       "30        1.00\n",
       "31        1.00\n",
       "32        1.00\n",
       "33        1.00\n",
       "          ... \n",
       "275901    1.00\n",
       "275902    1.00\n",
       "275903    1.00\n",
       "275904    1.00\n",
       "275905    1.00\n",
       "275906    1.00\n",
       "275907    1.00\n",
       "275908    1.00\n",
       "275909    1.00\n",
       "275910    1.00\n",
       "275911    1.00\n",
       "275912    1.00\n",
       "275913    1.02\n",
       "275914    1.00\n",
       "275915    1.00\n",
       "275916    1.00\n",
       "275917    1.00\n",
       "275918    1.00\n",
       "275919    1.00\n",
       "275920    1.00\n",
       "275921    1.01\n",
       "275922    1.00\n",
       "275923    1.00\n",
       "275924    1.00\n",
       "275925    1.00\n",
       "275926    1.00\n",
       "275927    1.00\n",
       "275928    1.00\n",
       "275929    1.00\n",
       "275930    1.00\n",
       "Name: bed_type, Length: 268636, dtype: float64"
      ]
     },
     "execution_count": 18,
     "metadata": {},
     "output_type": "execute_result"
    }
   ],
   "source": [
    "df_winter.bed_type[df_winter.bed_type == 'Real Bed'] = 1.0000000\n",
    "df_winter.bed_type[df_winter.bed_type == 'Futon'] = 1.01\n",
    "df_winter.bed_type[df_winter.bed_type == 'Pull-out Sofa'] = 1.02\n",
    "df_winter.bed_type[df_winter.bed_type == 'Airbed'] = 1.03\n",
    "df_winter.bed_type[df_winter.bed_type == 'Couch'] = 1.04\n",
    "df_winter.bed_type = df_winter.bed_type.astype(float)\n",
    "df_winter.bed_type"
   ]
  },
  {
   "cell_type": "code",
   "execution_count": 19,
   "metadata": {
    "scrolled": true
   },
   "outputs": [
    {
     "name": "stdout",
     "output_type": "stream",
     "text": [
      "<class 'pandas.core.frame.DataFrame'>\n",
      "Int64Index: 268636 entries, 0 to 275930\n",
      "Data columns (total 19 columns):\n",
      "id                        268636 non-null int64\n",
      "host_id                   268636 non-null int64\n",
      "scrape_id                 268636 non-null int64\n",
      "zipcode                   268636 non-null object\n",
      "neighbourhood_cleansed    268636 non-null object\n",
      "property_type             268636 non-null int64\n",
      "room_type                 268636 non-null float64\n",
      "accommodates              268636 non-null int64\n",
      "bedrooms                  268636 non-null float64\n",
      "beds                      268636 non-null float64\n",
      "bed_type                  268636 non-null float64\n",
      "price                     268636 non-null float64\n",
      "number_of_reviews         268636 non-null int64\n",
      "review_scores_rating      204238 non-null float64\n",
      "availability_30           268636 non-null int64\n",
      "minimum_nights            268636 non-null int64\n",
      "bathrooms                 268636 non-null float64\n",
      "host_is_superhost         268001 non-null float64\n",
      "host_response_rate        268636 non-null float64\n",
      "dtypes: float64(9), int64(8), object(2)\n",
      "memory usage: 51.0+ MB\n"
     ]
    }
   ],
   "source": [
    "df_winter.info()"
   ]
  },
  {
   "cell_type": "code",
   "execution_count": 20,
   "metadata": {},
   "outputs": [],
   "source": [
    "df_winter['host_is_superhost'] = df_winter['host_is_superhost'].fillna(0)"
   ]
  },
  {
   "cell_type": "code",
   "execution_count": 21,
   "metadata": {},
   "outputs": [
    {
     "data": {
      "text/plain": [
       "93.36956883635759"
      ]
     },
     "execution_count": 21,
     "metadata": {},
     "output_type": "execute_result"
    }
   ],
   "source": [
    "df_winter.review_scores_rating.mean()"
   ]
  },
  {
   "cell_type": "code",
   "execution_count": 22,
   "metadata": {},
   "outputs": [],
   "source": [
    "df_winter.review_scores_rating = df_winter.review_scores_rating.fillna(df_winter.review_scores_rating.mean())"
   ]
  },
  {
   "cell_type": "code",
   "execution_count": 23,
   "metadata": {},
   "outputs": [
    {
     "name": "stdout",
     "output_type": "stream",
     "text": [
      "<class 'pandas.core.frame.DataFrame'>\n",
      "Int64Index: 268636 entries, 0 to 275930\n",
      "Data columns (total 19 columns):\n",
      "id                        268636 non-null int64\n",
      "host_id                   268636 non-null int64\n",
      "scrape_id                 268636 non-null int64\n",
      "zipcode                   268636 non-null object\n",
      "neighbourhood_cleansed    268636 non-null object\n",
      "property_type             268636 non-null int64\n",
      "room_type                 268636 non-null float64\n",
      "accommodates              268636 non-null int64\n",
      "bedrooms                  268636 non-null float64\n",
      "beds                      268636 non-null float64\n",
      "bed_type                  268636 non-null float64\n",
      "price                     268636 non-null float64\n",
      "number_of_reviews         268636 non-null int64\n",
      "review_scores_rating      268636 non-null float64\n",
      "availability_30           268636 non-null int64\n",
      "minimum_nights            268636 non-null int64\n",
      "bathrooms                 268636 non-null float64\n",
      "host_is_superhost         268636 non-null float64\n",
      "host_response_rate        268636 non-null float64\n",
      "dtypes: float64(9), int64(8), object(2)\n",
      "memory usage: 51.0+ MB\n"
     ]
    }
   ],
   "source": [
    "df_winter.info()"
   ]
  },
  {
   "cell_type": "code",
   "execution_count": 24,
   "metadata": {
    "scrolled": false
   },
   "outputs": [
    {
     "name": "stdout",
     "output_type": "stream",
     "text": [
      "<class 'pandas.core.frame.DataFrame'>\n",
      "Int64Index: 268636 entries, 0 to 275930\n",
      "Data columns (total 19 columns):\n",
      "id                        268636 non-null int64\n",
      "host_id                   268636 non-null int64\n",
      "scrape_id                 268636 non-null int64\n",
      "zipcode                   268636 non-null object\n",
      "neighbourhood_cleansed    268636 non-null object\n",
      "property_type             268636 non-null int64\n",
      "room_type                 268636 non-null float64\n",
      "accommodates              268636 non-null int64\n",
      "bedrooms                  268636 non-null float64\n",
      "beds                      268636 non-null float64\n",
      "bed_type                  268636 non-null float64\n",
      "price                     268636 non-null float64\n",
      "number_of_reviews         268636 non-null int64\n",
      "review_scores_rating      268636 non-null float64\n",
      "availability_30           268636 non-null int64\n",
      "minimum_nights            268636 non-null int64\n",
      "bathrooms                 268636 non-null float64\n",
      "host_is_superhost         268636 non-null float64\n",
      "host_response_rate        268636 non-null float64\n",
      "dtypes: float64(9), int64(8), object(2)\n",
      "memory usage: 51.0+ MB\n"
     ]
    }
   ],
   "source": [
    "df_winter.info()"
   ]
  },
  {
   "cell_type": "code",
   "execution_count": 25,
   "metadata": {},
   "outputs": [
    {
     "data": {
      "text/plain": [
       "{'ResponseMetadata': {'RequestId': '60BD684733234CB7',\n",
       "  'HostId': 'bgRViCx2yzRus7LXPN1K0oqJ7Lb+ow+Wh9yMky5a7GCnMwDbBQAgAwLg5beuZ/Rf7sKfb2sxI3w=',\n",
       "  'HTTPStatusCode': 200,\n",
       "  'HTTPHeaders': {'x-amz-id-2': 'bgRViCx2yzRus7LXPN1K0oqJ7Lb+ow+Wh9yMky5a7GCnMwDbBQAgAwLg5beuZ/Rf7sKfb2sxI3w=',\n",
       "   'x-amz-request-id': '60BD684733234CB7',\n",
       "   'date': 'Tue, 14 May 2019 05:15:09 GMT',\n",
       "   'etag': '\"7811fed6b6eedcc7dfd4ad97636ec6f1\"',\n",
       "   'content-length': '0',\n",
       "   'server': 'AmazonS3'},\n",
       "  'RetryAttempts': 0},\n",
       " 'ETag': '\"7811fed6b6eedcc7dfd4ad97636ec6f1\"'}"
      ]
     },
     "execution_count": 25,
     "metadata": {},
     "output_type": "execute_result"
    }
   ],
   "source": [
    "from io import StringIO\n",
    "import boto3\n",
    "\n",
    "csv_buffer = StringIO()\n",
    "df_winter.to_csv(csv_buffer)\n",
    "s3_resource = boto3.resource('s3')\n",
    "s3_resource.Object(\"datasetairbnb\", 'airbnb_cleaned_winter.csv').put(Body=csv_buffer.getvalue())"
   ]
  },
  {
   "cell_type": "code",
   "execution_count": null,
   "metadata": {},
   "outputs": [],
   "source": []
  },
  {
   "cell_type": "code",
   "execution_count": null,
   "metadata": {},
   "outputs": [],
   "source": []
  },
  {
   "cell_type": "code",
   "execution_count": null,
   "metadata": {},
   "outputs": [],
   "source": []
  }
 ],
 "metadata": {
  "kernelspec": {
   "display_name": "conda_python3",
   "language": "python",
   "name": "conda_python3"
  },
  "language_info": {
   "codemirror_mode": {
    "name": "ipython",
    "version": 3
   },
   "file_extension": ".py",
   "mimetype": "text/x-python",
   "name": "python",
   "nbconvert_exporter": "python",
   "pygments_lexer": "ipython3",
   "version": "3.6.5"
  }
 },
 "nbformat": 4,
 "nbformat_minor": 2
}
