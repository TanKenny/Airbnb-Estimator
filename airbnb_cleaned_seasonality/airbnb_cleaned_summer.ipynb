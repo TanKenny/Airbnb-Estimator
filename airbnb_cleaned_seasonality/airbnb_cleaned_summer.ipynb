{
 "cells": [
  {
   "cell_type": "code",
   "execution_count": null,
   "metadata": {},
   "outputs": [],
   "source": [
    "import pandas as pd\n",
    "import numpy as np\n",
    "import matplotlib.pyplot as plt\n",
    "import seaborn as sns\n",
    "import matplotlib as mpl\n",
    "import matplotlib.pyplot as plt\n",
    "\n",
    "%matplotlib inline\n",
    "import warnings\n",
    "warnings.filterwarnings('ignore')"
   ]
  },
  {
   "cell_type": "code",
   "execution_count": null,
   "metadata": {},
   "outputs": [],
   "source": [
    "df_6 = pd.read_csv('s3://datasetairbnb/dataset/listingsJune.csv', encoding='Latin-1', sep=',', error_bad_lines=False, index_col=False, low_memory=False)\n",
    "df_7 = pd.read_csv('s3://datasetairbnb/dataset/listingsJuly.csv', encoding='Latin-1', sep=',', error_bad_lines=False, index_col=False, low_memory=False)\n",
    "df_8 = pd.read_csv('s3://datasetairbnb/dataset/listingsAugust.csv', encoding='Latin-1', sep=',', error_bad_lines=False, index_col=False, low_memory=False)\n",
    "\n",
    "df_18 = pd.read_csv('s3://datasetairbnb/dataset/listings_2017/june.csv', encoding='Latin-1', sep=',', error_bad_lines=False, index_col=False, low_memory=False)\n",
    "df_19 = pd.read_csv('s3://datasetairbnb/dataset/listings_2017/july.csv', encoding='Latin-1', sep=',', error_bad_lines=False, index_col=False, low_memory=False)\n",
    "df_20 = pd.read_csv('s3://datasetairbnb/dataset/listings_2017/august.csv', encoding='Latin-1', sep=',', error_bad_lines=False, index_col=False, low_memory=False)\n"
   ]
  },
  {
   "cell_type": "code",
   "execution_count": null,
   "metadata": {},
   "outputs": [],
   "source": [
    "df_summer_seasonality = pd.concat([df_6, df_7, df_8, df_18, df_19, df_20], ignore_index=True)"
   ]
  },
  {
   "cell_type": "code",
   "execution_count": null,
   "metadata": {},
   "outputs": [],
   "source": [
    "df_summer = df_summer_seasonality[[\n",
    "    'id',\n",
    "    'host_id',\n",
    "    'scrape_id',\n",
    "    'zipcode',\n",
    "    'neighbourhood_cleansed',\n",
    "    'property_type',\n",
    "    'room_type',\n",
    "    'accommodates',\n",
    "    'bedrooms',\n",
    "    'beds',\n",
    "    'bed_type',\n",
    "    'price',\n",
    "    'number_of_reviews',\n",
    "    'review_scores_rating',\n",
    "    'availability_30',\n",
    "    'minimum_nights',\n",
    "    'bathrooms',\n",
    "    'host_is_superhost',\n",
    "    'host_response_rate'\n",
    "]]\n"
   ]
  },
  {
   "cell_type": "code",
   "execution_count": null,
   "metadata": {},
   "outputs": [],
   "source": [
    "df_summer.info()"
   ]
  },
  {
   "cell_type": "code",
   "execution_count": null,
   "metadata": {
    "scrolled": true
   },
   "outputs": [],
   "source": [
    "# determine the number of missing entries in each column\n",
    "for col in df_summer.columns:\n",
    "    print (col + ', Number of Missing Values:', len(df_summer[col][df_summer[col].isnull()]))"
   ]
  },
  {
   "cell_type": "code",
   "execution_count": null,
   "metadata": {},
   "outputs": [],
   "source": [
    "original_winter = len(df_summer)\n",
    "df_summer = df_summer.dropna(how='any', subset=['zipcode', 'property_type', 'bedrooms', 'beds', 'bathrooms'])\n",
    "print ('Number of NaN values removed:', original_winter - len(df_summer))\n"
   ]
  },
  {
   "cell_type": "code",
   "execution_count": null,
   "metadata": {},
   "outputs": [],
   "source": [
    "# drop $ and , \n",
    "df_summer['price'] = df_summer['price'].astype(str).str.replace('$', '')\n",
    "df_summer['price'] = df_summer['price'].astype(str).str.replace(',', '')\n",
    "df_summer['price'] = df_summer['price'].str.strip()\n",
    "df_summer['price'] = df_summer['price'].astype(float)\n"
   ]
  },
  {
   "cell_type": "code",
   "execution_count": null,
   "metadata": {},
   "outputs": [],
   "source": [
    "# drop % && convert to float\n",
    "df_summer['host_response_rate'].fillna(0, inplace=True)\n",
    "df_summer['host_response_rate'] = df_summer['host_response_rate'].astype(str).str.replace('%', '')\n",
    "df_summer['host_response_rate'] = df_summer['host_response_rate'].astype(str).str.replace(',', '')\n",
    "df_summer['host_response_rate'] = df_summer['host_response_rate'].str.strip()\n",
    "df_summer['host_response_rate'] = df_summer['host_response_rate'].astype(float)"
   ]
  },
  {
   "cell_type": "code",
   "execution_count": null,
   "metadata": {},
   "outputs": [],
   "source": [
    "# host_is_superhost\n",
    "df_summer.host_is_superhost[df_summer.host_is_superhost == 't'] = 1\n",
    "df_summer.host_is_superhost[df_summer.host_is_superhost == 'f'] = 0\n",
    "df_summer.host_is_superhost = df_summer.host_is_superhost.astype(float)\n"
   ]
  },
  {
   "cell_type": "markdown",
   "metadata": {},
   "source": [
    "threshold=100\n",
    "df['count'] = df_cols.groupby('property_type')['property_type'].transform(pd.Series.value_counts)\n",
    "df_cols=df[df['count']>=threshold]\n",
    "df_cols.drop(['count'], axis = 1, inplace = True)"
   ]
  },
  {
   "cell_type": "code",
   "execution_count": null,
   "metadata": {},
   "outputs": [],
   "source": []
  },
  {
   "cell_type": "code",
   "execution_count": null,
   "metadata": {
    "scrolled": true
   },
   "outputs": [],
   "source": [
    "df_summer = df_summer.groupby('property_type').filter(lambda x : len(x)>500)"
   ]
  },
  {
   "cell_type": "code",
   "execution_count": null,
   "metadata": {},
   "outputs": [],
   "source": [
    "df_summer.info()"
   ]
  },
  {
   "cell_type": "code",
   "execution_count": null,
   "metadata": {},
   "outputs": [],
   "source": [
    "df_summer['neighbourhood_cleansed']"
   ]
  },
  {
   "cell_type": "code",
   "execution_count": null,
   "metadata": {},
   "outputs": [],
   "source": [
    "df_summer['neighbourhood_cleansed'] = df_summer['neighbourhood_cleansed'].str.lower()\n",
    "df_summer.neighbourhood_cleansed = df_summer.neighbourhood_cleansed.str.replace(' ', '')"
   ]
  },
  {
   "cell_type": "code",
   "execution_count": null,
   "metadata": {},
   "outputs": [],
   "source": [
    "df_summer['neighbourhood_cleansed']"
   ]
  },
  {
   "cell_type": "code",
   "execution_count": null,
   "metadata": {},
   "outputs": [],
   "source": [
    "df_summer.room_type[df_summer.room_type == 'Entire home/apt'] = 1.0000000\n",
    "df_summer.room_type[df_summer.room_type == 'Private room'] = 1.01\n",
    "df_summer.room_type[df_summer.room_type == 'Shared room'] = 1.02\n",
    "df_summer.room_type = df_summer.room_type.astype(float)\n"
   ]
  },
  {
   "cell_type": "code",
   "execution_count": null,
   "metadata": {},
   "outputs": [],
   "source": [
    "cleanup_proptype = {'Apartment': 1, 'House': 2, 'Townhouse': 3, 'Loft': 4, 'Condominium': 5, 'Serviced apartment': 6,  'Guest suite': 7, 'Other': 8,\n",
    "                     'Bed and breakfast': 9, 'Bed & Breakfast': 9, 'Boutique hotel': 10, 'Resort': 11, 'Guesthouse': 12, 'Hostel': 13, 'Hotel': 14, 'Bungalow': 15,\n",
    "                    'Villa': 16, 'Tiny house': 17, 'Aparthotel': 18, 'Boat': 19, 'Cottage': 20, 'Tent': 21, 'Camper/RV': 22, 'Cabin': 23, 'Casa particular (Cuba)': 24,\n",
    "                   'Castle': 25, 'Houseboat': 26, 'Earth house': 27, 'Nature lodge': 28, 'Cave': 29, 'Train': 30, 'Timeshare': 31, 'Island': 32, 'Bus': 33, 'Chalet': 34\n",
    "                   }\n",
    "df_summer['property_type'].replace(cleanup_proptype, inplace=True)"
   ]
  },
  {
   "cell_type": "code",
   "execution_count": null,
   "metadata": {},
   "outputs": [],
   "source": [
    "df_summer.bed_type[df_summer.bed_type == 'Real Bed'] = 1.0000000\n",
    "df_summer.bed_type[df_summer.bed_type == 'Futon'] = 1.01\n",
    "df_summer.bed_type[df_summer.bed_type == 'Pull-out Sofa'] = 1.02\n",
    "df_summer.bed_type[df_summer.bed_type == 'Airbed'] = 1.03\n",
    "df_summer.bed_type[df_summer.bed_type == 'Couch'] = 1.04\n",
    "df_summer.bed_type = df_summer.bed_type.astype(float)\n",
    "df_summer.bed_type"
   ]
  },
  {
   "cell_type": "code",
   "execution_count": null,
   "metadata": {
    "scrolled": true
   },
   "outputs": [],
   "source": [
    "df_summer.info()"
   ]
  },
  {
   "cell_type": "code",
   "execution_count": null,
   "metadata": {},
   "outputs": [],
   "source": [
    "df_summer['host_is_superhost'] = df_summer['host_is_superhost'].fillna(0)"
   ]
  },
  {
   "cell_type": "code",
   "execution_count": null,
   "metadata": {},
   "outputs": [],
   "source": [
    "df_summer.review_scores_rating.mean()"
   ]
  },
  {
   "cell_type": "code",
   "execution_count": null,
   "metadata": {},
   "outputs": [],
   "source": [
    "df_summer.review_scores_rating = df_summer.review_scores_rating.fillna(df_summer.review_scores_rating.mean())"
   ]
  },
  {
   "cell_type": "code",
   "execution_count": null,
   "metadata": {},
   "outputs": [],
   "source": [
    "df_summer.info()"
   ]
  },
  {
   "cell_type": "code",
   "execution_count": null,
   "metadata": {
    "scrolled": false
   },
   "outputs": [],
   "source": [
    "df_summer.info()"
   ]
  },
  {
   "cell_type": "code",
   "execution_count": null,
   "metadata": {},
   "outputs": [],
   "source": [
    "from io import StringIO\n",
    "import boto3\n",
    "\n",
    "csv_buffer = StringIO()\n",
    "df_summer.to_csv(csv_buffer)\n",
    "s3_resource = boto3.resource('s3')\n",
    "s3_resource.Object(\"datasetairbnb\", 'airbnb_cleaned_summer.csv').put(Body=csv_buffer.getvalue())"
   ]
  },
  {
   "cell_type": "code",
   "execution_count": null,
   "metadata": {},
   "outputs": [],
   "source": []
  },
  {
   "cell_type": "code",
   "execution_count": null,
   "metadata": {},
   "outputs": [],
   "source": []
  },
  {
   "cell_type": "code",
   "execution_count": null,
   "metadata": {},
   "outputs": [],
   "source": []
  }
 ],
 "metadata": {
  "kernelspec": {
   "display_name": "conda_python3",
   "language": "python",
   "name": "conda_python3"
  },
  "language_info": {
   "codemirror_mode": {
    "name": "ipython",
    "version": 3
   },
   "file_extension": ".py",
   "mimetype": "text/x-python",
   "name": "python",
   "nbconvert_exporter": "python",
   "pygments_lexer": "ipython3",
   "version": "3.6.5"
  }
 },
 "nbformat": 4,
 "nbformat_minor": 2
}
