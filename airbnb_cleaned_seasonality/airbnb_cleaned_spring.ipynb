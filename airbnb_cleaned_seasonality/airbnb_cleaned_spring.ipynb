{
 "cells": [
  {
   "cell_type": "code",
   "execution_count": 1,
   "metadata": {},
   "outputs": [],
   "source": [
    "import pandas as pd\n",
    "import numpy as np\n",
    "import matplotlib.pyplot as plt\n",
    "import seaborn as sns\n",
    "import matplotlib as mpl\n",
    "import matplotlib.pyplot as plt\n",
    "\n",
    "%matplotlib inline\n",
    "import warnings\n",
    "warnings.filterwarnings('ignore')"
   ]
  },
  {
   "cell_type": "code",
   "execution_count": 2,
   "metadata": {},
   "outputs": [],
   "source": [
    "df_3 = pd.read_csv('s3://datasetairbnb/dataset/listingsMarch.csv', encoding='Latin-1', sep=',', error_bad_lines=False, index_col=False, low_memory=False)\n",
    "df_4 = pd.read_csv('s3://datasetairbnb/dataset/listingsApril.csv', encoding='Latin-1', sep=',', error_bad_lines=False, index_col=False, low_memory=False)\n",
    "df_5 = pd.read_csv('s3://datasetairbnb/dataset/listingsMay.csv', encoding='Latin-1', sep=',', error_bad_lines=False, index_col=False, low_memory=False)\n",
    "\n",
    "df_15 = pd.read_csv('s3://datasetairbnb/dataset/listings_2017/march.csv', encoding='Latin-1', sep=',', error_bad_lines=False, index_col=False, low_memory=False)\n",
    "df_16 = pd.read_csv('s3://datasetairbnb/dataset/listings_2017/april.csv', encoding='Latin-1', sep=',', error_bad_lines=False, index_col=False, low_memory=False)\n",
    "df_17 = pd.read_csv('s3://datasetairbnb/dataset/listings_2017/may.csv', encoding='Latin-1', sep=',', error_bad_lines=False, index_col=False, low_memory=False)\n"
   ]
  },
  {
   "cell_type": "code",
   "execution_count": 3,
   "metadata": {},
   "outputs": [],
   "source": [
    "df_spring_seasonality = pd.concat([df_3, df_4, df_5, df_15, df_16, df_17], ignore_index=True)"
   ]
  },
  {
   "cell_type": "code",
   "execution_count": 4,
   "metadata": {},
   "outputs": [],
   "source": [
    "df_spring = df_spring_seasonality[[\n",
    "    'id',\n",
    "    'host_id',\n",
    "    'scrape_id',\n",
    "    'zipcode',\n",
    "    'neighbourhood_cleansed',\n",
    "    'property_type',\n",
    "    'room_type',\n",
    "    'accommodates',\n",
    "    'bedrooms',\n",
    "    'beds',\n",
    "    'bed_type',\n",
    "    'price',\n",
    "    'number_of_reviews',\n",
    "    'review_scores_rating',\n",
    "    'availability_30',\n",
    "    'minimum_nights',\n",
    "    'bathrooms',\n",
    "    'host_is_superhost',\n",
    "    'host_response_rate'\n",
    "]]\n"
   ]
  },
  {
   "cell_type": "code",
   "execution_count": 5,
   "metadata": {},
   "outputs": [
    {
     "name": "stdout",
     "output_type": "stream",
     "text": [
      "<class 'pandas.core.frame.DataFrame'>\n",
      "RangeIndex: 266811 entries, 0 to 266810\n",
      "Data columns (total 19 columns):\n",
      "id                        266811 non-null int64\n",
      "host_id                   266811 non-null int64\n",
      "scrape_id                 266811 non-null int64\n",
      "zipcode                   262937 non-null object\n",
      "neighbourhood_cleansed    266811 non-null object\n",
      "property_type             266811 non-null object\n",
      "room_type                 266811 non-null object\n",
      "accommodates              266811 non-null int64\n",
      "bedrooms                  266435 non-null float64\n",
      "beds                      266378 non-null float64\n",
      "bed_type                  266811 non-null object\n",
      "price                     266811 non-null object\n",
      "number_of_reviews         266811 non-null int64\n",
      "review_scores_rating      201920 non-null float64\n",
      "availability_30           266811 non-null int64\n",
      "minimum_nights            266811 non-null int64\n",
      "bathrooms                 265952 non-null float64\n",
      "host_is_superhost         266215 non-null object\n",
      "host_response_rate        173899 non-null object\n",
      "dtypes: float64(4), int64(7), object(8)\n",
      "memory usage: 38.7+ MB\n"
     ]
    }
   ],
   "source": [
    "df_spring.info()"
   ]
  },
  {
   "cell_type": "code",
   "execution_count": 6,
   "metadata": {
    "scrolled": true
   },
   "outputs": [
    {
     "name": "stdout",
     "output_type": "stream",
     "text": [
      "id, Number of Missing Values: 0\n",
      "host_id, Number of Missing Values: 0\n",
      "scrape_id, Number of Missing Values: 0\n",
      "zipcode, Number of Missing Values: 3874\n",
      "neighbourhood_cleansed, Number of Missing Values: 0\n",
      "property_type, Number of Missing Values: 0\n",
      "room_type, Number of Missing Values: 0\n",
      "accommodates, Number of Missing Values: 0\n",
      "bedrooms, Number of Missing Values: 376\n",
      "beds, Number of Missing Values: 433\n",
      "bed_type, Number of Missing Values: 0\n",
      "price, Number of Missing Values: 0\n",
      "number_of_reviews, Number of Missing Values: 0\n",
      "review_scores_rating, Number of Missing Values: 64891\n",
      "availability_30, Number of Missing Values: 0\n",
      "minimum_nights, Number of Missing Values: 0\n",
      "bathrooms, Number of Missing Values: 859\n",
      "host_is_superhost, Number of Missing Values: 596\n",
      "host_response_rate, Number of Missing Values: 92912\n"
     ]
    }
   ],
   "source": [
    "# determine the number of missing entries in each column\n",
    "for col in df_spring.columns:\n",
    "    print (col + ', Number of Missing Values:', len(df_spring[col][df_spring[col].isnull()]))"
   ]
  },
  {
   "cell_type": "code",
   "execution_count": 7,
   "metadata": {},
   "outputs": [
    {
     "name": "stdout",
     "output_type": "stream",
     "text": [
      "Number of NaN values removed: 5174\n"
     ]
    }
   ],
   "source": [
    "original_winter = len(df_spring)\n",
    "df_spring = df_spring.dropna(how='any', subset=['zipcode', 'property_type', 'bedrooms', 'beds', 'bathrooms'])\n",
    "print ('Number of NaN values removed:', original_winter - len(df_spring))\n"
   ]
  },
  {
   "cell_type": "code",
   "execution_count": 8,
   "metadata": {},
   "outputs": [],
   "source": [
    "# drop $ and , \n",
    "df_spring['price'] = df_spring['price'].astype(str).str.replace('$', '')\n",
    "df_spring['price'] = df_spring['price'].astype(str).str.replace(',', '')\n",
    "df_spring['price'] = df_spring['price'].str.strip()\n",
    "df_spring['price'] = df_spring['price'].astype(float)\n"
   ]
  },
  {
   "cell_type": "code",
   "execution_count": 9,
   "metadata": {},
   "outputs": [],
   "source": [
    "cleanup_proptype = {'Apartment': 1, 'House': 2, 'Townhouse': 3, 'Loft': 4, 'Condominium': 5, 'Serviced apartment': 6,  'Guest suite': 7, 'Other': 8,\n",
    "                     'Bed and breakfast': 9, 'Bed & Breakfast': 9, 'Boutique hotel': 10, 'Resort': 11, 'Guesthouse': 12, 'Hostel': 13, 'Hotel': 14, 'Bungalow': 15,\n",
    "                    'Villa': 16, 'Tiny house': 17, 'Aparthotel': 18, 'Boat': 19, 'Cottage': 20, 'Tent': 21, 'Camper/RV': 22, 'Cabin': 23, 'Casa particular (Cuba)': 24,\n",
    "                   'Castle': 25, 'Houseboat': 26, 'Earth house': 27, 'Nature lodge': 28, 'Cave': 29, 'Train': 30, 'Timeshare': 31, 'Island': 32, 'Bus': 33, 'Chalet': 34\n",
    "                   }\n",
    "df_spring['property_type'].replace(cleanup_proptype, inplace=True)"
   ]
  },
  {
   "cell_type": "code",
   "execution_count": 10,
   "metadata": {},
   "outputs": [],
   "source": [
    "# drop % && convert to float\n",
    "df_spring['host_response_rate'].fillna(0, inplace=True)\n",
    "df_spring['host_response_rate'] = df_spring['host_response_rate'].astype(str).str.replace('%', '')\n",
    "df_spring['host_response_rate'] = df_spring['host_response_rate'].astype(str).str.replace(',', '')\n",
    "df_spring['host_response_rate'] = df_spring['host_response_rate'].str.strip()\n",
    "df_spring['host_response_rate'] = df_spring['host_response_rate'].astype(float)"
   ]
  },
  {
   "cell_type": "code",
   "execution_count": 11,
   "metadata": {},
   "outputs": [],
   "source": [
    "# host_is_superhost\n",
    "df_spring.host_is_superhost[df_spring.host_is_superhost == 't'] = 1\n",
    "df_spring.host_is_superhost[df_spring.host_is_superhost == 'f'] = 0\n",
    "df_spring.host_is_superhost = df_spring.host_is_superhost.astype(float)\n"
   ]
  },
  {
   "cell_type": "markdown",
   "metadata": {},
   "source": [
    "threshold=100\n",
    "df['count'] = df_cols.groupby('property_type')['property_type'].transform(pd.Series.value_counts)\n",
    "df_cols=df[df['count']>=threshold]\n",
    "df_cols.drop(['count'], axis = 1, inplace = True)"
   ]
  },
  {
   "cell_type": "code",
   "execution_count": null,
   "metadata": {},
   "outputs": [],
   "source": []
  },
  {
   "cell_type": "code",
   "execution_count": 12,
   "metadata": {
    "scrolled": true
   },
   "outputs": [],
   "source": [
    "df_spring = df_spring.groupby('property_type').filter(lambda x : len(x)>500)"
   ]
  },
  {
   "cell_type": "code",
   "execution_count": 13,
   "metadata": {},
   "outputs": [
    {
     "name": "stdout",
     "output_type": "stream",
     "text": [
      "<class 'pandas.core.frame.DataFrame'>\n",
      "Int64Index: 259382 entries, 0 to 266809\n",
      "Data columns (total 19 columns):\n",
      "id                        259382 non-null int64\n",
      "host_id                   259382 non-null int64\n",
      "scrape_id                 259382 non-null int64\n",
      "zipcode                   259382 non-null object\n",
      "neighbourhood_cleansed    259382 non-null object\n",
      "property_type             259382 non-null object\n",
      "room_type                 259382 non-null object\n",
      "accommodates              259382 non-null int64\n",
      "bedrooms                  259382 non-null float64\n",
      "beds                      259382 non-null float64\n",
      "bed_type                  259382 non-null object\n",
      "price                     259382 non-null float64\n",
      "number_of_reviews         259382 non-null int64\n",
      "review_scores_rating      196662 non-null float64\n",
      "availability_30           259382 non-null int64\n",
      "minimum_nights            259382 non-null int64\n",
      "bathrooms                 259382 non-null float64\n",
      "host_is_superhost         258811 non-null float64\n",
      "host_response_rate        259382 non-null float64\n",
      "dtypes: float64(7), int64(7), object(5)\n",
      "memory usage: 39.6+ MB\n"
     ]
    }
   ],
   "source": [
    "df_spring.info()"
   ]
  },
  {
   "cell_type": "code",
   "execution_count": 14,
   "metadata": {},
   "outputs": [
    {
     "data": {
      "text/plain": [
       "0                     Harlem\n",
       "1                 Kensington\n",
       "2                    Midtown\n",
       "3               Williamsburg\n",
       "4                     Harlem\n",
       "5               Clinton Hill\n",
       "6             Hell's Kitchen\n",
       "7             Hell's Kitchen\n",
       "9                Sunset Park\n",
       "10               Murray Hill\n",
       "11            Hell's Kitchen\n",
       "12           Upper West Side\n",
       "13                 Chinatown\n",
       "14           Upper West Side\n",
       "15           Upper West Side\n",
       "16            Hell's Kitchen\n",
       "18           Upper West Side\n",
       "19              West Village\n",
       "21               East Harlem\n",
       "22               Fort Greene\n",
       "24                   Chelsea\n",
       "26           Upper West Side\n",
       "27                Park Slope\n",
       "28                Park Slope\n",
       "29                Park Slope\n",
       "30                    Harlem\n",
       "31              East Village\n",
       "32        Bedford-Stuyvesant\n",
       "33              East Village\n",
       "35                    Inwood\n",
       "                 ...        \n",
       "266779          Williamsburg\n",
       "266780          Williamsburg\n",
       "266781          Williamsburg\n",
       "266782          Williamsburg\n",
       "266783          Williamsburg\n",
       "266784          Williamsburg\n",
       "266785          Williamsburg\n",
       "266786          Williamsburg\n",
       "266787          Williamsburg\n",
       "266788          Williamsburg\n",
       "266789          Williamsburg\n",
       "266790          Williamsburg\n",
       "266791          Williamsburg\n",
       "266792          Williamsburg\n",
       "266793          Williamsburg\n",
       "266794          Williamsburg\n",
       "266795          Williamsburg\n",
       "266796          Williamsburg\n",
       "266797          Williamsburg\n",
       "266798          Williamsburg\n",
       "266799          Williamsburg\n",
       "266800          Williamsburg\n",
       "266801          Williamsburg\n",
       "266802          Williamsburg\n",
       "266803       Cambria Heights\n",
       "266804       Cambria Heights\n",
       "266805              Rosedale\n",
       "266806       North Riverdale\n",
       "266807       Upper West Side\n",
       "266809           East Harlem\n",
       "Name: neighbourhood_cleansed, Length: 259382, dtype: object"
      ]
     },
     "execution_count": 14,
     "metadata": {},
     "output_type": "execute_result"
    }
   ],
   "source": [
    "df_spring['neighbourhood_cleansed']"
   ]
  },
  {
   "cell_type": "code",
   "execution_count": 15,
   "metadata": {},
   "outputs": [],
   "source": [
    "df_spring['neighbourhood_cleansed'] = df_spring['neighbourhood_cleansed'].str.lower()\n",
    "df_spring.neighbourhood_cleansed = df_spring.neighbourhood_cleansed.str.replace(' ', '')"
   ]
  },
  {
   "cell_type": "code",
   "execution_count": 16,
   "metadata": {},
   "outputs": [
    {
     "data": {
      "text/plain": [
       "0                     harlem\n",
       "1                 kensington\n",
       "2                    midtown\n",
       "3               williamsburg\n",
       "4                     harlem\n",
       "5                clintonhill\n",
       "6              hell'skitchen\n",
       "7              hell'skitchen\n",
       "9                 sunsetpark\n",
       "10                murrayhill\n",
       "11             hell'skitchen\n",
       "12             upperwestside\n",
       "13                 chinatown\n",
       "14             upperwestside\n",
       "15             upperwestside\n",
       "16             hell'skitchen\n",
       "18             upperwestside\n",
       "19               westvillage\n",
       "21                eastharlem\n",
       "22                fortgreene\n",
       "24                   chelsea\n",
       "26             upperwestside\n",
       "27                 parkslope\n",
       "28                 parkslope\n",
       "29                 parkslope\n",
       "30                    harlem\n",
       "31               eastvillage\n",
       "32        bedford-stuyvesant\n",
       "33               eastvillage\n",
       "35                    inwood\n",
       "                 ...        \n",
       "266779          williamsburg\n",
       "266780          williamsburg\n",
       "266781          williamsburg\n",
       "266782          williamsburg\n",
       "266783          williamsburg\n",
       "266784          williamsburg\n",
       "266785          williamsburg\n",
       "266786          williamsburg\n",
       "266787          williamsburg\n",
       "266788          williamsburg\n",
       "266789          williamsburg\n",
       "266790          williamsburg\n",
       "266791          williamsburg\n",
       "266792          williamsburg\n",
       "266793          williamsburg\n",
       "266794          williamsburg\n",
       "266795          williamsburg\n",
       "266796          williamsburg\n",
       "266797          williamsburg\n",
       "266798          williamsburg\n",
       "266799          williamsburg\n",
       "266800          williamsburg\n",
       "266801          williamsburg\n",
       "266802          williamsburg\n",
       "266803        cambriaheights\n",
       "266804        cambriaheights\n",
       "266805              rosedale\n",
       "266806        northriverdale\n",
       "266807         upperwestside\n",
       "266809            eastharlem\n",
       "Name: neighbourhood_cleansed, Length: 259382, dtype: object"
      ]
     },
     "execution_count": 16,
     "metadata": {},
     "output_type": "execute_result"
    }
   ],
   "source": [
    "df_spring['neighbourhood_cleansed']"
   ]
  },
  {
   "cell_type": "code",
   "execution_count": 17,
   "metadata": {},
   "outputs": [],
   "source": [
    "df_spring.room_type[df_spring.room_type == 'Entire home/apt'] = 1.0000000\n",
    "df_spring.room_type[df_spring.room_type == 'Private room'] = 1.01\n",
    "df_spring.room_type[df_spring.room_type == 'Shared room'] = 1.02\n",
    "df_spring.room_type = df_spring.room_type.astype(float)\n"
   ]
  },
  {
   "cell_type": "code",
   "execution_count": 18,
   "metadata": {},
   "outputs": [],
   "source": [
    "cleanup_proptype = {'Apartment': 1, 'House': 2, 'Townhouse': 3, 'Loft': 4, 'Condominium': 5, 'Serviced apartment': 6,  'Guest suite': 7, 'Other': 8,\n",
    "                     'Bed and breakfast': 9, 'Bed & Breakfast': 9, 'Boutique hotel': 10, 'Resort': 11, 'Guesthouse': 12, 'Hostel': 13, 'Hotel': 14, 'Bungalow': 15,\n",
    "                    'Villa': 16, 'Tiny house': 17, 'Aparthotel': 18, 'Boat': 19, 'Cottage': 20, 'Tent': 21, 'Camper/RV': 22, 'Cabin': 23, 'Casa particular (Cuba)': 24,\n",
    "                   'Castle': 25, 'Houseboat': 26, 'Earth house': 27, 'Nature lodge': 28, 'Cave': 29, 'Train': 30, 'Timeshare': 31, 'Island': 32, 'Bus': 33, 'Chalet': 34\n",
    "                   }\n",
    "df_spring['property_type'].replace(cleanup_proptype, inplace=True)"
   ]
  },
  {
   "cell_type": "code",
   "execution_count": 19,
   "metadata": {},
   "outputs": [
    {
     "data": {
      "text/plain": [
       "0         1.00\n",
       "1         1.00\n",
       "2         1.00\n",
       "3         1.00\n",
       "4         1.02\n",
       "5         1.00\n",
       "6         1.00\n",
       "7         1.00\n",
       "9         1.00\n",
       "10        1.00\n",
       "11        1.00\n",
       "12        1.00\n",
       "13        1.00\n",
       "14        1.00\n",
       "15        1.00\n",
       "16        1.00\n",
       "18        1.03\n",
       "19        1.00\n",
       "21        1.00\n",
       "22        1.00\n",
       "24        1.00\n",
       "26        1.00\n",
       "27        1.00\n",
       "28        1.00\n",
       "29        1.00\n",
       "30        1.00\n",
       "31        1.00\n",
       "32        1.00\n",
       "33        1.02\n",
       "35        1.00\n",
       "          ... \n",
       "266779    1.00\n",
       "266780    1.00\n",
       "266781    1.00\n",
       "266782    1.00\n",
       "266783    1.00\n",
       "266784    1.00\n",
       "266785    1.00\n",
       "266786    1.00\n",
       "266787    1.00\n",
       "266788    1.00\n",
       "266789    1.00\n",
       "266790    1.00\n",
       "266791    1.00\n",
       "266792    1.00\n",
       "266793    1.00\n",
       "266794    1.00\n",
       "266795    1.00\n",
       "266796    1.00\n",
       "266797    1.00\n",
       "266798    1.00\n",
       "266799    1.00\n",
       "266800    1.00\n",
       "266801    1.00\n",
       "266802    1.00\n",
       "266803    1.00\n",
       "266804    1.00\n",
       "266805    1.00\n",
       "266806    1.00\n",
       "266807    1.00\n",
       "266809    1.00\n",
       "Name: bed_type, Length: 259382, dtype: float64"
      ]
     },
     "execution_count": 19,
     "metadata": {},
     "output_type": "execute_result"
    }
   ],
   "source": [
    "df_spring.bed_type[df_spring.bed_type == 'Real Bed'] = 1.0000000\n",
    "df_spring.bed_type[df_spring.bed_type == 'Futon'] = 1.01\n",
    "df_spring.bed_type[df_spring.bed_type == 'Pull-out Sofa'] = 1.02\n",
    "df_spring.bed_type[df_spring.bed_type == 'Airbed'] = 1.03\n",
    "df_spring.bed_type[df_spring.bed_type == 'Couch'] = 1.04\n",
    "df_spring.bed_type = df_spring.bed_type.astype(float)\n",
    "df_spring.bed_type"
   ]
  },
  {
   "cell_type": "code",
   "execution_count": 20,
   "metadata": {
    "scrolled": true
   },
   "outputs": [
    {
     "name": "stdout",
     "output_type": "stream",
     "text": [
      "<class 'pandas.core.frame.DataFrame'>\n",
      "Int64Index: 259382 entries, 0 to 266809\n",
      "Data columns (total 19 columns):\n",
      "id                        259382 non-null int64\n",
      "host_id                   259382 non-null int64\n",
      "scrape_id                 259382 non-null int64\n",
      "zipcode                   259382 non-null object\n",
      "neighbourhood_cleansed    259382 non-null object\n",
      "property_type             259382 non-null int64\n",
      "room_type                 259382 non-null float64\n",
      "accommodates              259382 non-null int64\n",
      "bedrooms                  259382 non-null float64\n",
      "beds                      259382 non-null float64\n",
      "bed_type                  259382 non-null float64\n",
      "price                     259382 non-null float64\n",
      "number_of_reviews         259382 non-null int64\n",
      "review_scores_rating      196662 non-null float64\n",
      "availability_30           259382 non-null int64\n",
      "minimum_nights            259382 non-null int64\n",
      "bathrooms                 259382 non-null float64\n",
      "host_is_superhost         258811 non-null float64\n",
      "host_response_rate        259382 non-null float64\n",
      "dtypes: float64(9), int64(8), object(2)\n",
      "memory usage: 49.6+ MB\n"
     ]
    }
   ],
   "source": [
    "df_spring.info()"
   ]
  },
  {
   "cell_type": "code",
   "execution_count": 21,
   "metadata": {},
   "outputs": [],
   "source": [
    "df_spring['host_is_superhost'] = df_spring['host_is_superhost'].fillna(0)"
   ]
  },
  {
   "cell_type": "code",
   "execution_count": 22,
   "metadata": {},
   "outputs": [
    {
     "data": {
      "text/plain": [
       "93.35948988620069"
      ]
     },
     "execution_count": 22,
     "metadata": {},
     "output_type": "execute_result"
    }
   ],
   "source": [
    "df_spring.review_scores_rating.mean()"
   ]
  },
  {
   "cell_type": "code",
   "execution_count": 23,
   "metadata": {},
   "outputs": [],
   "source": [
    "df_spring.review_scores_rating = df_spring.review_scores_rating.fillna(df_spring.review_scores_rating.mean())"
   ]
  },
  {
   "cell_type": "code",
   "execution_count": 24,
   "metadata": {},
   "outputs": [
    {
     "name": "stdout",
     "output_type": "stream",
     "text": [
      "<class 'pandas.core.frame.DataFrame'>\n",
      "Int64Index: 259382 entries, 0 to 266809\n",
      "Data columns (total 19 columns):\n",
      "id                        259382 non-null int64\n",
      "host_id                   259382 non-null int64\n",
      "scrape_id                 259382 non-null int64\n",
      "zipcode                   259382 non-null object\n",
      "neighbourhood_cleansed    259382 non-null object\n",
      "property_type             259382 non-null int64\n",
      "room_type                 259382 non-null float64\n",
      "accommodates              259382 non-null int64\n",
      "bedrooms                  259382 non-null float64\n",
      "beds                      259382 non-null float64\n",
      "bed_type                  259382 non-null float64\n",
      "price                     259382 non-null float64\n",
      "number_of_reviews         259382 non-null int64\n",
      "review_scores_rating      259382 non-null float64\n",
      "availability_30           259382 non-null int64\n",
      "minimum_nights            259382 non-null int64\n",
      "bathrooms                 259382 non-null float64\n",
      "host_is_superhost         259382 non-null float64\n",
      "host_response_rate        259382 non-null float64\n",
      "dtypes: float64(9), int64(8), object(2)\n",
      "memory usage: 49.6+ MB\n"
     ]
    }
   ],
   "source": [
    "df_spring.info()"
   ]
  },
  {
   "cell_type": "code",
   "execution_count": 25,
   "metadata": {
    "scrolled": false
   },
   "outputs": [
    {
     "name": "stdout",
     "output_type": "stream",
     "text": [
      "<class 'pandas.core.frame.DataFrame'>\n",
      "Int64Index: 259382 entries, 0 to 266809\n",
      "Data columns (total 19 columns):\n",
      "id                        259382 non-null int64\n",
      "host_id                   259382 non-null int64\n",
      "scrape_id                 259382 non-null int64\n",
      "zipcode                   259382 non-null object\n",
      "neighbourhood_cleansed    259382 non-null object\n",
      "property_type             259382 non-null int64\n",
      "room_type                 259382 non-null float64\n",
      "accommodates              259382 non-null int64\n",
      "bedrooms                  259382 non-null float64\n",
      "beds                      259382 non-null float64\n",
      "bed_type                  259382 non-null float64\n",
      "price                     259382 non-null float64\n",
      "number_of_reviews         259382 non-null int64\n",
      "review_scores_rating      259382 non-null float64\n",
      "availability_30           259382 non-null int64\n",
      "minimum_nights            259382 non-null int64\n",
      "bathrooms                 259382 non-null float64\n",
      "host_is_superhost         259382 non-null float64\n",
      "host_response_rate        259382 non-null float64\n",
      "dtypes: float64(9), int64(8), object(2)\n",
      "memory usage: 49.6+ MB\n"
     ]
    }
   ],
   "source": [
    "df_spring.info()"
   ]
  },
  {
   "cell_type": "code",
   "execution_count": 26,
   "metadata": {},
   "outputs": [
    {
     "data": {
      "text/plain": [
       "{'ResponseMetadata': {'RequestId': 'BD7826540D9F7B15',\n",
       "  'HostId': 'ONnq//3LukwDYitCMBvTV1Pw9pkbY195H2HzwURVElSYwqymHYNaQ1FiKRWw4OETFEWJd3RD60U=',\n",
       "  'HTTPStatusCode': 200,\n",
       "  'HTTPHeaders': {'x-amz-id-2': 'ONnq//3LukwDYitCMBvTV1Pw9pkbY195H2HzwURVElSYwqymHYNaQ1FiKRWw4OETFEWJd3RD60U=',\n",
       "   'x-amz-request-id': 'BD7826540D9F7B15',\n",
       "   'date': 'Wed, 15 May 2019 05:03:43 GMT',\n",
       "   'etag': '\"5ed4168fcd7b34d9486a764db9f18f49\"',\n",
       "   'content-length': '0',\n",
       "   'server': 'AmazonS3'},\n",
       "  'RetryAttempts': 0},\n",
       " 'ETag': '\"5ed4168fcd7b34d9486a764db9f18f49\"'}"
      ]
     },
     "execution_count": 26,
     "metadata": {},
     "output_type": "execute_result"
    }
   ],
   "source": [
    "from io import StringIO\n",
    "import boto3\n",
    "\n",
    "csv_buffer = StringIO()\n",
    "df_spring.to_csv(csv_buffer)\n",
    "s3_resource = boto3.resource('s3')\n",
    "s3_resource.Object(\"datasetairbnb\", 'airbnb_cleaned_spring.csv').put(Body=csv_buffer.getvalue())"
   ]
  },
  {
   "cell_type": "code",
   "execution_count": null,
   "metadata": {},
   "outputs": [],
   "source": []
  },
  {
   "cell_type": "code",
   "execution_count": null,
   "metadata": {},
   "outputs": [],
   "source": []
  },
  {
   "cell_type": "code",
   "execution_count": null,
   "metadata": {},
   "outputs": [],
   "source": []
  }
 ],
 "metadata": {
  "kernelspec": {
   "display_name": "conda_python3",
   "language": "python",
   "name": "conda_python3"
  },
  "language_info": {
   "codemirror_mode": {
    "name": "ipython",
    "version": 3
   },
   "file_extension": ".py",
   "mimetype": "text/x-python",
   "name": "python",
   "nbconvert_exporter": "python",
   "pygments_lexer": "ipython3",
   "version": "3.6.5"
  }
 },
 "nbformat": 4,
 "nbformat_minor": 2
}
