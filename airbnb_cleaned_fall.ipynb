{
 "cells": [
  {
   "cell_type": "code",
   "execution_count": 1,
   "metadata": {},
   "outputs": [],
   "source": [
    "import pandas as pd\n",
    "import numpy as np\n",
    "import matplotlib.pyplot as plt\n",
    "import seaborn as sns\n",
    "import matplotlib as mpl\n",
    "import matplotlib.pyplot as plt\n",
    "\n",
    "%matplotlib inline\n",
    "import warnings\n",
    "warnings.filterwarnings('ignore')"
   ]
  },
  {
   "cell_type": "code",
   "execution_count": 2,
   "metadata": {},
   "outputs": [],
   "source": [
    "df_9 = pd.read_csv('s3://datasetairbnb/dataset/listingsSeptember.csv', encoding='Latin-1', sep=',', error_bad_lines=False, index_col=False, low_memory=False)\n",
    "df_10 = pd.read_csv('s3://datasetairbnb/dataset/listingsOctober.csv', encoding='Latin-1', sep=',', error_bad_lines=False, index_col=False, low_memory=False)\n",
    "df_11 = pd.read_csv('s3://datasetairbnb/dataset/listingsNovember.csv', encoding='Latin-1', sep=',', error_bad_lines=False, index_col=False, low_memory=False)\n",
    "\n",
    "df_21 = pd.read_csv('s3://datasetairbnb/dataset/listings_2017/september.csv', encoding='Latin-1', sep=',', error_bad_lines=False, index_col=False, low_memory=False)\n",
    "df_22 = pd.read_csv('s3://datasetairbnb/dataset/listings_2017/october.csv', encoding='Latin-1', sep=',', error_bad_lines=False, index_col=False, low_memory=False)\n",
    "df_23 = pd.read_csv('s3://datasetairbnb/dataset/listings_2017/november.csv', encoding='Latin-1', sep=',', error_bad_lines=False, index_col=False, low_memory=False)"
   ]
  },
  {
   "cell_type": "code",
   "execution_count": 3,
   "metadata": {},
   "outputs": [],
   "source": [
    "df_fall_seasonality = pd.concat([df_9, df_10, df_11, df_21, df_22, df_23], ignore_index=True)"
   ]
  },
  {
   "cell_type": "code",
   "execution_count": 4,
   "metadata": {},
   "outputs": [],
   "source": [
    "df_fall = df_fall_seasonality[[\n",
    "    'id',\n",
    "    'host_id',\n",
    "    'scrape_id',\n",
    "    'zipcode',\n",
    "    'neighbourhood_cleansed',\n",
    "    'property_type',\n",
    "    'room_type',\n",
    "    'accommodates',\n",
    "    'bedrooms',\n",
    "    'beds',\n",
    "    'bed_type',\n",
    "    'price',\n",
    "    'number_of_reviews',\n",
    "    'review_scores_rating',\n",
    "    'availability_30',\n",
    "    'minimum_nights',\n",
    "    'bathrooms',\n",
    "    'host_is_superhost',\n",
    "    'host_response_rate'\n",
    "]]\n"
   ]
  },
  {
   "cell_type": "code",
   "execution_count": 5,
   "metadata": {},
   "outputs": [
    {
     "name": "stdout",
     "output_type": "stream",
     "text": [
      "<class 'pandas.core.frame.DataFrame'>\n",
      "RangeIndex: 282064 entries, 0 to 282063\n",
      "Data columns (total 19 columns):\n",
      "id                        282064 non-null int64\n",
      "host_id                   282064 non-null int64\n",
      "scrape_id                 282064 non-null int64\n",
      "zipcode                   278023 non-null object\n",
      "neighbourhood_cleansed    282064 non-null object\n",
      "property_type             282064 non-null object\n",
      "room_type                 282064 non-null object\n",
      "accommodates              282064 non-null int64\n",
      "bedrooms                  281693 non-null float64\n",
      "beds                      281637 non-null float64\n",
      "bed_type                  282064 non-null object\n",
      "price                     282064 non-null object\n",
      "number_of_reviews         282064 non-null int64\n",
      "review_scores_rating      217533 non-null float64\n",
      "availability_30           282064 non-null int64\n",
      "minimum_nights            282064 non-null int64\n",
      "bathrooms                 281342 non-null float64\n",
      "host_is_superhost         281701 non-null object\n",
      "host_response_rate        174244 non-null object\n",
      "dtypes: float64(4), int64(7), object(8)\n",
      "memory usage: 40.9+ MB\n"
     ]
    }
   ],
   "source": [
    "df_fall.info()"
   ]
  },
  {
   "cell_type": "code",
   "execution_count": 6,
   "metadata": {},
   "outputs": [
    {
     "name": "stdout",
     "output_type": "stream",
     "text": [
      "id, Number of Missing Values: 0\n",
      "host_id, Number of Missing Values: 0\n",
      "scrape_id, Number of Missing Values: 0\n",
      "zipcode, Number of Missing Values: 4041\n",
      "neighbourhood_cleansed, Number of Missing Values: 0\n",
      "property_type, Number of Missing Values: 0\n",
      "room_type, Number of Missing Values: 0\n",
      "accommodates, Number of Missing Values: 0\n",
      "bedrooms, Number of Missing Values: 371\n",
      "beds, Number of Missing Values: 427\n",
      "bed_type, Number of Missing Values: 0\n",
      "price, Number of Missing Values: 0\n",
      "number_of_reviews, Number of Missing Values: 0\n",
      "review_scores_rating, Number of Missing Values: 64531\n",
      "availability_30, Number of Missing Values: 0\n",
      "minimum_nights, Number of Missing Values: 0\n",
      "bathrooms, Number of Missing Values: 722\n",
      "host_is_superhost, Number of Missing Values: 363\n",
      "host_response_rate, Number of Missing Values: 107820\n"
     ]
    }
   ],
   "source": [
    "# determine the number of missing entries in each column\n",
    "for col in df_fall.columns:\n",
    "    print (col + ', Number of Missing Values:', len(df_fall[col][df_fall[col].isnull()]))"
   ]
  },
  {
   "cell_type": "code",
   "execution_count": 7,
   "metadata": {},
   "outputs": [
    {
     "name": "stdout",
     "output_type": "stream",
     "text": [
      "Number of NaN values removed: 5253\n"
     ]
    }
   ],
   "source": [
    "original_winter = len(df_fall)\n",
    "df_fall = df_fall.dropna(how='any', subset=['zipcode', 'property_type', 'bedrooms', 'beds', 'bathrooms'])\n",
    "print ('Number of NaN values removed:', original_winter - len(df_fall))\n"
   ]
  },
  {
   "cell_type": "code",
   "execution_count": 8,
   "metadata": {},
   "outputs": [],
   "source": [
    "# drop $ and , \n",
    "df_fall['price'] = df_fall['price'].astype(str).str.replace('$', '')\n",
    "df_fall['price'] = df_fall['price'].astype(str).str.replace(',', '')\n",
    "df_fall['price'] = df_fall['price'].str.strip()\n",
    "df_fall['price'] = df_fall['price'].astype(float)\n"
   ]
  },
  {
   "cell_type": "code",
   "execution_count": 9,
   "metadata": {},
   "outputs": [],
   "source": [
    "# drop % && convert to float\n",
    "df_fall['host_response_rate'].fillna(0, inplace=True)\n",
    "df_fall['host_response_rate'] = df_fall['host_response_rate'].astype(str).str.replace('%', '')\n",
    "df_fall['host_response_rate'] = df_fall['host_response_rate'].astype(str).str.replace(',', '')\n",
    "df_fall['host_response_rate'] = df_fall['host_response_rate'].str.strip()\n",
    "df_fall['host_response_rate'] = df_fall['host_response_rate'].astype(float)"
   ]
  },
  {
   "cell_type": "code",
   "execution_count": 10,
   "metadata": {},
   "outputs": [],
   "source": [
    "# host_is_superhost\n",
    "df_fall.host_is_superhost[df_fall.host_is_superhost == 't'] = 1\n",
    "df_fall.host_is_superhost[df_fall.host_is_superhost == 'f'] = 0\n",
    "df_fall.host_is_superhost = df_fall.host_is_superhost.astype(float)\n"
   ]
  },
  {
   "cell_type": "markdown",
   "metadata": {},
   "source": [
    "threshold=100\n",
    "df['count'] = df_cols.groupby('property_type')['property_type'].transform(pd.Series.value_counts)\n",
    "df_cols=df[df['count']>=threshold]\n",
    "df_cols.drop(['count'], axis = 1, inplace = True)"
   ]
  },
  {
   "cell_type": "code",
   "execution_count": null,
   "metadata": {},
   "outputs": [],
   "source": []
  },
  {
   "cell_type": "code",
   "execution_count": 11,
   "metadata": {
    "scrolled": true
   },
   "outputs": [],
   "source": [
    "df_fall = df_fall.groupby('property_type').filter(lambda x : len(x)>500)"
   ]
  },
  {
   "cell_type": "code",
   "execution_count": 12,
   "metadata": {},
   "outputs": [
    {
     "name": "stdout",
     "output_type": "stream",
     "text": [
      "<class 'pandas.core.frame.DataFrame'>\n",
      "Int64Index: 273813 entries, 0 to 282063\n",
      "Data columns (total 19 columns):\n",
      "id                        273813 non-null int64\n",
      "host_id                   273813 non-null int64\n",
      "scrape_id                 273813 non-null int64\n",
      "zipcode                   273813 non-null object\n",
      "neighbourhood_cleansed    273813 non-null object\n",
      "property_type             273813 non-null object\n",
      "room_type                 273813 non-null object\n",
      "accommodates              273813 non-null int64\n",
      "bedrooms                  273813 non-null float64\n",
      "beds                      273813 non-null float64\n",
      "bed_type                  273813 non-null object\n",
      "price                     273813 non-null float64\n",
      "number_of_reviews         273813 non-null int64\n",
      "review_scores_rating      211643 non-null float64\n",
      "availability_30           273813 non-null int64\n",
      "minimum_nights            273813 non-null int64\n",
      "bathrooms                 273813 non-null float64\n",
      "host_is_superhost         273465 non-null float64\n",
      "host_response_rate        273813 non-null float64\n",
      "dtypes: float64(7), int64(7), object(5)\n",
      "memory usage: 41.8+ MB\n"
     ]
    }
   ],
   "source": [
    "df_fall.info()"
   ]
  },
  {
   "cell_type": "code",
   "execution_count": 13,
   "metadata": {},
   "outputs": [
    {
     "data": {
      "text/plain": [
       "0                     Harlem\n",
       "1                 Kensington\n",
       "2                    Midtown\n",
       "3               Williamsburg\n",
       "4                     Harlem\n",
       "5               Clinton Hill\n",
       "6               East Village\n",
       "8                Murray Hill\n",
       "10               Murray Hill\n",
       "11            Hell's Kitchen\n",
       "12           Upper West Side\n",
       "14                 Chinatown\n",
       "15           Upper West Side\n",
       "16            Hell's Kitchen\n",
       "18           Upper West Side\n",
       "19           Upper West Side\n",
       "20              West Village\n",
       "22               East Harlem\n",
       "23                Kensington\n",
       "24              Williamsburg\n",
       "25               Fort Greene\n",
       "27                   Chelsea\n",
       "28             Crown Heights\n",
       "30         Flatiron District\n",
       "32                Park Slope\n",
       "34                    Harlem\n",
       "35              East Village\n",
       "36                   Chelsea\n",
       "37        Bedford-Stuyvesant\n",
       "38           Windsor Terrace\n",
       "                 ...        \n",
       "282034          Williamsburg\n",
       "282035          Williamsburg\n",
       "282036          Williamsburg\n",
       "282037          Williamsburg\n",
       "282038          Williamsburg\n",
       "282039          Williamsburg\n",
       "282040          Williamsburg\n",
       "282041          Williamsburg\n",
       "282042          Williamsburg\n",
       "282043          Williamsburg\n",
       "282044          Williamsburg\n",
       "282045          Williamsburg\n",
       "282046          Williamsburg\n",
       "282047          Williamsburg\n",
       "282048          Williamsburg\n",
       "282049          Williamsburg\n",
       "282050          Williamsburg\n",
       "282051          Williamsburg\n",
       "282052               Midwood\n",
       "282053              Woodlawn\n",
       "282054          Breezy Point\n",
       "282055          Williamsburg\n",
       "282056             Wakefield\n",
       "282057          Belle Harbor\n",
       "282058               Midwood\n",
       "282059              Bushwick\n",
       "282060       Upper West Side\n",
       "282061               Midtown\n",
       "282062       North Riverdale\n",
       "282063             Glen Oaks\n",
       "Name: neighbourhood_cleansed, Length: 273813, dtype: object"
      ]
     },
     "execution_count": 13,
     "metadata": {},
     "output_type": "execute_result"
    }
   ],
   "source": [
    "df_fall['neighbourhood_cleansed']"
   ]
  },
  {
   "cell_type": "code",
   "execution_count": 14,
   "metadata": {},
   "outputs": [],
   "source": [
    "df_fall['neighbourhood_cleansed'] = df_fall['neighbourhood_cleansed'].str.lower()\n",
    "df_fall.neighbourhood_cleansed = df_fall.neighbourhood_cleansed.str.replace(' ', '')"
   ]
  },
  {
   "cell_type": "code",
   "execution_count": 15,
   "metadata": {},
   "outputs": [
    {
     "data": {
      "text/plain": [
       "0                     harlem\n",
       "1                 kensington\n",
       "2                    midtown\n",
       "3               williamsburg\n",
       "4                     harlem\n",
       "5                clintonhill\n",
       "6                eastvillage\n",
       "8                 murrayhill\n",
       "10                murrayhill\n",
       "11             hell'skitchen\n",
       "12             upperwestside\n",
       "14                 chinatown\n",
       "15             upperwestside\n",
       "16             hell'skitchen\n",
       "18             upperwestside\n",
       "19             upperwestside\n",
       "20               westvillage\n",
       "22                eastharlem\n",
       "23                kensington\n",
       "24              williamsburg\n",
       "25                fortgreene\n",
       "27                   chelsea\n",
       "28              crownheights\n",
       "30          flatirondistrict\n",
       "32                 parkslope\n",
       "34                    harlem\n",
       "35               eastvillage\n",
       "36                   chelsea\n",
       "37        bedford-stuyvesant\n",
       "38            windsorterrace\n",
       "                 ...        \n",
       "282034          williamsburg\n",
       "282035          williamsburg\n",
       "282036          williamsburg\n",
       "282037          williamsburg\n",
       "282038          williamsburg\n",
       "282039          williamsburg\n",
       "282040          williamsburg\n",
       "282041          williamsburg\n",
       "282042          williamsburg\n",
       "282043          williamsburg\n",
       "282044          williamsburg\n",
       "282045          williamsburg\n",
       "282046          williamsburg\n",
       "282047          williamsburg\n",
       "282048          williamsburg\n",
       "282049          williamsburg\n",
       "282050          williamsburg\n",
       "282051          williamsburg\n",
       "282052               midwood\n",
       "282053              woodlawn\n",
       "282054           breezypoint\n",
       "282055          williamsburg\n",
       "282056             wakefield\n",
       "282057           belleharbor\n",
       "282058               midwood\n",
       "282059              bushwick\n",
       "282060         upperwestside\n",
       "282061               midtown\n",
       "282062        northriverdale\n",
       "282063              glenoaks\n",
       "Name: neighbourhood_cleansed, Length: 273813, dtype: object"
      ]
     },
     "execution_count": 15,
     "metadata": {},
     "output_type": "execute_result"
    }
   ],
   "source": [
    "df_fall['neighbourhood_cleansed']"
   ]
  },
  {
   "cell_type": "code",
   "execution_count": 16,
   "metadata": {},
   "outputs": [],
   "source": [
    "df_fall.room_type[df_fall.room_type == 'Entire home/apt'] = 1.0000000\n",
    "df_fall.room_type[df_fall.room_type == 'Private room'] = 1.01\n",
    "df_fall.room_type[df_fall.room_type == 'Shared room'] = 1.02\n",
    "df_fall.room_type = df_fall.room_type.astype(float)\n"
   ]
  },
  {
   "cell_type": "code",
   "execution_count": 17,
   "metadata": {},
   "outputs": [],
   "source": [
    "cleanup_proptype = {'Apartment': 1, 'House': 2, 'Townhouse': 3, 'Loft': 4, 'Condominium': 5, 'Serviced apartment': 6,  'Guest suite': 7, 'Other': 8,\n",
    "                     'Bed and breakfast': 9, 'Bed & Breakfast': 9, 'Boutique hotel': 10, 'Resort': 11, 'Guesthouse': 12, 'Hostel': 13, 'Hotel': 14, 'Bungalow': 15,\n",
    "                    'Villa': 16, 'Tiny house': 17, 'Aparthotel': 18, 'Boat': 19, 'Cottage': 20, 'Tent': 21, 'Camper/RV': 22, 'Cabin': 23, 'Casa particular (Cuba)': 24,\n",
    "                   'Castle': 25, 'Houseboat': 26, 'Earth house': 27, 'Nature lodge': 28, 'Cave': 29, 'Train': 30, 'Timeshare': 31, 'Island': 32, 'Bus': 33, 'Chalet': 34\n",
    "                   }\n",
    "df_fall['property_type'].replace(cleanup_proptype, inplace=True)"
   ]
  },
  {
   "cell_type": "code",
   "execution_count": 18,
   "metadata": {},
   "outputs": [
    {
     "data": {
      "text/plain": [
       "0         1.00\n",
       "1         1.00\n",
       "2         1.00\n",
       "3         1.00\n",
       "4         1.02\n",
       "5         1.00\n",
       "6         1.00\n",
       "8         1.00\n",
       "10        1.00\n",
       "11        1.00\n",
       "12        1.00\n",
       "14        1.00\n",
       "15        1.00\n",
       "16        1.00\n",
       "18        1.03\n",
       "19        1.00\n",
       "20        1.00\n",
       "22        1.00\n",
       "23        1.00\n",
       "24        1.00\n",
       "25        1.00\n",
       "27        1.00\n",
       "28        1.00\n",
       "30        1.00\n",
       "32        1.00\n",
       "34        1.00\n",
       "35        1.00\n",
       "36        1.00\n",
       "37        1.00\n",
       "38        1.00\n",
       "          ... \n",
       "282034    1.00\n",
       "282035    1.00\n",
       "282036    1.00\n",
       "282037    1.00\n",
       "282038    1.00\n",
       "282039    1.00\n",
       "282040    1.00\n",
       "282041    1.00\n",
       "282042    1.00\n",
       "282043    1.00\n",
       "282044    1.00\n",
       "282045    1.00\n",
       "282046    1.00\n",
       "282047    1.00\n",
       "282048    1.00\n",
       "282049    1.00\n",
       "282050    1.00\n",
       "282051    1.00\n",
       "282052    1.00\n",
       "282053    1.00\n",
       "282054    1.00\n",
       "282055    1.00\n",
       "282056    1.00\n",
       "282057    1.00\n",
       "282058    1.00\n",
       "282059    1.00\n",
       "282060    1.00\n",
       "282061    1.00\n",
       "282062    1.00\n",
       "282063    1.00\n",
       "Name: bed_type, Length: 273813, dtype: float64"
      ]
     },
     "execution_count": 18,
     "metadata": {},
     "output_type": "execute_result"
    }
   ],
   "source": [
    "df_fall.bed_type[df_fall.bed_type == 'Real Bed'] = 1.0000000\n",
    "df_fall.bed_type[df_fall.bed_type == 'Futon'] = 1.01\n",
    "df_fall.bed_type[df_fall.bed_type == 'Pull-out Sofa'] = 1.02\n",
    "df_fall.bed_type[df_fall.bed_type == 'Airbed'] = 1.03\n",
    "df_fall.bed_type[df_fall.bed_type == 'Couch'] = 1.04\n",
    "df_fall.bed_type = df_fall.bed_type.astype(float)\n",
    "df_fall.bed_type"
   ]
  },
  {
   "cell_type": "code",
   "execution_count": 19,
   "metadata": {
    "scrolled": true
   },
   "outputs": [
    {
     "name": "stdout",
     "output_type": "stream",
     "text": [
      "<class 'pandas.core.frame.DataFrame'>\n",
      "Int64Index: 273813 entries, 0 to 282063\n",
      "Data columns (total 19 columns):\n",
      "id                        273813 non-null int64\n",
      "host_id                   273813 non-null int64\n",
      "scrape_id                 273813 non-null int64\n",
      "zipcode                   273813 non-null object\n",
      "neighbourhood_cleansed    273813 non-null object\n",
      "property_type             273813 non-null int64\n",
      "room_type                 273813 non-null float64\n",
      "accommodates              273813 non-null int64\n",
      "bedrooms                  273813 non-null float64\n",
      "beds                      273813 non-null float64\n",
      "bed_type                  273813 non-null float64\n",
      "price                     273813 non-null float64\n",
      "number_of_reviews         273813 non-null int64\n",
      "review_scores_rating      211643 non-null float64\n",
      "availability_30           273813 non-null int64\n",
      "minimum_nights            273813 non-null int64\n",
      "bathrooms                 273813 non-null float64\n",
      "host_is_superhost         273465 non-null float64\n",
      "host_response_rate        273813 non-null float64\n",
      "dtypes: float64(9), int64(8), object(2)\n",
      "memory usage: 51.8+ MB\n"
     ]
    }
   ],
   "source": [
    "df_fall.info()"
   ]
  },
  {
   "cell_type": "code",
   "execution_count": 20,
   "metadata": {},
   "outputs": [],
   "source": [
    "df_fall['host_is_superhost'] = df_fall['host_is_superhost'].fillna(0)"
   ]
  },
  {
   "cell_type": "code",
   "execution_count": 21,
   "metadata": {},
   "outputs": [
    {
     "data": {
      "text/plain": [
       "93.61883454685484"
      ]
     },
     "execution_count": 21,
     "metadata": {},
     "output_type": "execute_result"
    }
   ],
   "source": [
    "df_fall.review_scores_rating.mean()"
   ]
  },
  {
   "cell_type": "code",
   "execution_count": 22,
   "metadata": {},
   "outputs": [],
   "source": [
    "df_fall.review_scores_rating = df_fall.review_scores_rating.fillna(df_fall.review_scores_rating.mean())"
   ]
  },
  {
   "cell_type": "code",
   "execution_count": 23,
   "metadata": {},
   "outputs": [
    {
     "name": "stdout",
     "output_type": "stream",
     "text": [
      "<class 'pandas.core.frame.DataFrame'>\n",
      "Int64Index: 273813 entries, 0 to 282063\n",
      "Data columns (total 19 columns):\n",
      "id                        273813 non-null int64\n",
      "host_id                   273813 non-null int64\n",
      "scrape_id                 273813 non-null int64\n",
      "zipcode                   273813 non-null object\n",
      "neighbourhood_cleansed    273813 non-null object\n",
      "property_type             273813 non-null int64\n",
      "room_type                 273813 non-null float64\n",
      "accommodates              273813 non-null int64\n",
      "bedrooms                  273813 non-null float64\n",
      "beds                      273813 non-null float64\n",
      "bed_type                  273813 non-null float64\n",
      "price                     273813 non-null float64\n",
      "number_of_reviews         273813 non-null int64\n",
      "review_scores_rating      273813 non-null float64\n",
      "availability_30           273813 non-null int64\n",
      "minimum_nights            273813 non-null int64\n",
      "bathrooms                 273813 non-null float64\n",
      "host_is_superhost         273813 non-null float64\n",
      "host_response_rate        273813 non-null float64\n",
      "dtypes: float64(9), int64(8), object(2)\n",
      "memory usage: 51.8+ MB\n"
     ]
    }
   ],
   "source": [
    "df_fall.info()"
   ]
  },
  {
   "cell_type": "code",
   "execution_count": 24,
   "metadata": {
    "scrolled": false
   },
   "outputs": [
    {
     "name": "stdout",
     "output_type": "stream",
     "text": [
      "<class 'pandas.core.frame.DataFrame'>\n",
      "Int64Index: 273813 entries, 0 to 282063\n",
      "Data columns (total 19 columns):\n",
      "id                        273813 non-null int64\n",
      "host_id                   273813 non-null int64\n",
      "scrape_id                 273813 non-null int64\n",
      "zipcode                   273813 non-null object\n",
      "neighbourhood_cleansed    273813 non-null object\n",
      "property_type             273813 non-null int64\n",
      "room_type                 273813 non-null float64\n",
      "accommodates              273813 non-null int64\n",
      "bedrooms                  273813 non-null float64\n",
      "beds                      273813 non-null float64\n",
      "bed_type                  273813 non-null float64\n",
      "price                     273813 non-null float64\n",
      "number_of_reviews         273813 non-null int64\n",
      "review_scores_rating      273813 non-null float64\n",
      "availability_30           273813 non-null int64\n",
      "minimum_nights            273813 non-null int64\n",
      "bathrooms                 273813 non-null float64\n",
      "host_is_superhost         273813 non-null float64\n",
      "host_response_rate        273813 non-null float64\n",
      "dtypes: float64(9), int64(8), object(2)\n",
      "memory usage: 51.8+ MB\n"
     ]
    }
   ],
   "source": [
    "df_fall.info()"
   ]
  },
  {
   "cell_type": "code",
   "execution_count": 25,
   "metadata": {},
   "outputs": [
    {
     "name": "stdout",
     "output_type": "stream",
     "text": [
      "<class 'pandas.core.frame.DataFrame'>\n",
      "Int64Index: 273813 entries, 0 to 282063\n",
      "Data columns (total 19 columns):\n",
      "id                        273813 non-null int64\n",
      "host_id                   273813 non-null int64\n",
      "scrape_id                 273813 non-null int64\n",
      "zipcode                   273813 non-null object\n",
      "neighbourhood_cleansed    273813 non-null object\n",
      "property_type             273813 non-null int64\n",
      "room_type                 273813 non-null float64\n",
      "accommodates              273813 non-null int64\n",
      "bedrooms                  273813 non-null float64\n",
      "beds                      273813 non-null float64\n",
      "bed_type                  273813 non-null float64\n",
      "price                     273813 non-null float64\n",
      "number_of_reviews         273813 non-null int64\n",
      "review_scores_rating      273813 non-null float64\n",
      "availability_30           273813 non-null int64\n",
      "minimum_nights            273813 non-null int64\n",
      "bathrooms                 273813 non-null float64\n",
      "host_is_superhost         273813 non-null float64\n",
      "host_response_rate        273813 non-null float64\n",
      "dtypes: float64(9), int64(8), object(2)\n",
      "memory usage: 51.8+ MB\n"
     ]
    }
   ],
   "source": [
    "df_fall.info()"
   ]
  },
  {
   "cell_type": "code",
   "execution_count": 26,
   "metadata": {},
   "outputs": [
    {
     "data": {
      "text/plain": [
       "{'ResponseMetadata': {'RequestId': '4CFD2E347B3C7F9F',\n",
       "  'HostId': 'CzG9qpB79e5N8dn3BbLPws1hvfSgLhZpTv50kHnWBc6CFoqJJZDJFuqoBPG8BreGiDTYN8jciOY=',\n",
       "  'HTTPStatusCode': 200,\n",
       "  'HTTPHeaders': {'x-amz-id-2': 'CzG9qpB79e5N8dn3BbLPws1hvfSgLhZpTv50kHnWBc6CFoqJJZDJFuqoBPG8BreGiDTYN8jciOY=',\n",
       "   'x-amz-request-id': '4CFD2E347B3C7F9F',\n",
       "   'date': 'Tue, 14 May 2019 18:30:21 GMT',\n",
       "   'etag': '\"f2b13c44f396a500c0ee5a62eadc7d43\"',\n",
       "   'content-length': '0',\n",
       "   'server': 'AmazonS3'},\n",
       "  'RetryAttempts': 0},\n",
       " 'ETag': '\"f2b13c44f396a500c0ee5a62eadc7d43\"'}"
      ]
     },
     "execution_count": 26,
     "metadata": {},
     "output_type": "execute_result"
    }
   ],
   "source": [
    "from io import StringIO\n",
    "import boto3\n",
    "\n",
    "csv_buffer = StringIO()\n",
    "df_fall.to_csv(csv_buffer)\n",
    "s3_resource = boto3.resource('s3')\n",
    "s3_resource.Object(\"datasetairbnb\", 'airbnb_cleaned_fall.csv').put(Body=csv_buffer.getvalue())"
   ]
  },
  {
   "cell_type": "code",
   "execution_count": null,
   "metadata": {},
   "outputs": [],
   "source": []
  },
  {
   "cell_type": "code",
   "execution_count": null,
   "metadata": {},
   "outputs": [],
   "source": []
  },
  {
   "cell_type": "code",
   "execution_count": null,
   "metadata": {},
   "outputs": [],
   "source": []
  }
 ],
 "metadata": {
  "kernelspec": {
   "display_name": "conda_python3",
   "language": "python",
   "name": "conda_python3"
  },
  "language_info": {
   "codemirror_mode": {
    "name": "ipython",
    "version": 3
   },
   "file_extension": ".py",
   "mimetype": "text/x-python",
   "name": "python",
   "nbconvert_exporter": "python",
   "pygments_lexer": "ipython3",
   "version": "3.6.5"
  }
 },
 "nbformat": 4,
 "nbformat_minor": 2
}
