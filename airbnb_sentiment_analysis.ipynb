{
 "cells": [
  {
   "cell_type": "code",
   "execution_count": 2,
   "metadata": {},
   "outputs": [],
   "source": [
    "import re\n",
    "import pandas as pd \n",
    "import numpy as np \n",
    "import matplotlib.pyplot as plt \n",
    "import seaborn as sns\n",
    "import string\n",
    "import nltk\n",
    "import warnings \n",
    "warnings.filterwarnings(\"ignore\", category=DeprecationWarning)\n",
    "\n",
    "%matplotlib inline"
   ]
  },
  {
   "cell_type": "code",
   "execution_count": 3,
   "metadata": {},
   "outputs": [],
   "source": [
    "ds1 = pd.read_csv('./dataset/oct2018_reviews.csv', encoding='Latin-1')\n",
    "ds2 = pd.read_csv('./dataset/nov2018_reviews.csv', encoding='Latin-1')\n",
    "ds3 = pd.read_csv('./dataset/dec2018_reviews.csv', encoding='Latin-1')\n",
    "\n",
    "#train = pd.read_csv('./dataset/oct2018_reviews.csv', encoding='Latin-1')\n",
    "train = pd.concat([ds1, ds2, ds3])\n",
    "test = pd.read_csv('./dataset/testreviews.csv', encoding='Latin-1')"
   ]
  },
  {
   "cell_type": "code",
   "execution_count": 4,
   "metadata": {
    "scrolled": false
   },
   "outputs": [
    {
     "data": {
      "text/html": [
       "<div>\n",
       "<style scoped>\n",
       "    .dataframe tbody tr th:only-of-type {\n",
       "        vertical-align: middle;\n",
       "    }\n",
       "\n",
       "    .dataframe tbody tr th {\n",
       "        vertical-align: top;\n",
       "    }\n",
       "\n",
       "    .dataframe thead th {\n",
       "        text-align: right;\n",
       "    }\n",
       "</style>\n",
       "<table border=\"1\" class=\"dataframe\">\n",
       "  <thead>\n",
       "    <tr style=\"text-align: right;\">\n",
       "      <th></th>\n",
       "      <th>listing_id</th>\n",
       "      <th>id</th>\n",
       "      <th>date</th>\n",
       "      <th>reviewer_id</th>\n",
       "      <th>reviewer_name</th>\n",
       "      <th>comments</th>\n",
       "    </tr>\n",
       "  </thead>\n",
       "  <tbody>\n",
       "    <tr>\n",
       "      <th>0</th>\n",
       "      <td>2515</td>\n",
       "      <td>198</td>\n",
       "      <td>2008-10-13</td>\n",
       "      <td>2603</td>\n",
       "      <td>Jenny</td>\n",
       "      <td>Stephanie was a wonderful host! Her apartment ...</td>\n",
       "    </tr>\n",
       "    <tr>\n",
       "      <th>1</th>\n",
       "      <td>2515</td>\n",
       "      <td>859</td>\n",
       "      <td>2009-03-08</td>\n",
       "      <td>8455</td>\n",
       "      <td>Roland</td>\n",
       "      <td>Such a wonderful place and very close to the m...</td>\n",
       "    </tr>\n",
       "    <tr>\n",
       "      <th>2</th>\n",
       "      <td>2515</td>\n",
       "      <td>1083</td>\n",
       "      <td>2009-03-25</td>\n",
       "      <td>9759</td>\n",
       "      <td>Cem</td>\n",
       "      <td>I just got back from a trip to NYC during whic...</td>\n",
       "    </tr>\n",
       "    <tr>\n",
       "      <th>3</th>\n",
       "      <td>2515</td>\n",
       "      <td>1107</td>\n",
       "      <td>2009-03-27</td>\n",
       "      <td>9193</td>\n",
       "      <td>Holly</td>\n",
       "      <td>Stephanie's offered all the most important thi...</td>\n",
       "    </tr>\n",
       "    <tr>\n",
       "      <th>4</th>\n",
       "      <td>2515</td>\n",
       "      <td>2175</td>\n",
       "      <td>2009-05-09</td>\n",
       "      <td>7048</td>\n",
       "      <td>Alessandra</td>\n",
       "      <td>Stephanie was really nice, ftiendly and helpfu...</td>\n",
       "    </tr>\n",
       "  </tbody>\n",
       "</table>\n",
       "</div>"
      ],
      "text/plain": [
       "   listing_id    id        date  reviewer_id reviewer_name  \\\n",
       "0        2515   198  2008-10-13         2603         Jenny   \n",
       "1        2515   859  2009-03-08         8455        Roland   \n",
       "2        2515  1083  2009-03-25         9759           Cem   \n",
       "3        2515  1107  2009-03-27         9193         Holly   \n",
       "4        2515  2175  2009-05-09         7048    Alessandra   \n",
       "\n",
       "                                            comments  \n",
       "0  Stephanie was a wonderful host! Her apartment ...  \n",
       "1  Such a wonderful place and very close to the m...  \n",
       "2  I just got back from a trip to NYC during whic...  \n",
       "3  Stephanie's offered all the most important thi...  \n",
       "4  Stephanie was really nice, ftiendly and helpfu...  "
      ]
     },
     "execution_count": 4,
     "metadata": {},
     "output_type": "execute_result"
    }
   ],
   "source": [
    "train.head()\n",
    "test.head()"
   ]
  },
  {
   "cell_type": "markdown",
   "metadata": {},
   "source": [
    "# Column Values"
   ]
  },
  {
   "cell_type": "code",
   "execution_count": 62,
   "metadata": {
    "scrolled": true
   },
   "outputs": [
    {
     "data": {
      "text/plain": [
       "['listing_id', 'id', 'date', 'reviewer_id', 'reviewer_name', 'comments']"
      ]
     },
     "execution_count": 62,
     "metadata": {},
     "output_type": "execute_result"
    }
   ],
   "source": [
    "list(train)"
   ]
  },
  {
   "cell_type": "markdown",
   "metadata": {},
   "source": [
    "# Drop unnecessary columns"
   ]
  },
  {
   "cell_type": "code",
   "execution_count": 5,
   "metadata": {
    "scrolled": true
   },
   "outputs": [],
   "source": [
    "train = train.drop(columns = ['date', 'id', 'reviewer_id', 'reviewer_name'])\n",
    "test = test.drop(columns = ['date', 'id', 'reviewer_id', 'reviewer_name'])"
   ]
  },
  {
   "cell_type": "markdown",
   "metadata": {},
   "source": [
    "# Data Cleaning"
   ]
  },
  {
   "cell_type": "markdown",
   "metadata": {},
   "source": [
    "## Remove punctuations, special characters, "
   ]
  },
  {
   "cell_type": "code",
   "execution_count": 6,
   "metadata": {
    "scrolled": true
   },
   "outputs": [
    {
     "data": {
      "text/plain": [
       "0          Stephanie was a wonderful host! Her apartment ...\n",
       "1          Such a wonderful place and very close to the m...\n",
       "2          I just got back from a trip to NYC during whic...\n",
       "3          Stephanie's offered all the most important thi...\n",
       "4          Stephanie was really nice, ftiendly and helpfu...\n",
       "5          I was pleasantly surprised with my whole stay ...\n",
       "6          Stephanie's apt was great. Very convenient to ...\n",
       "7          my husband and i had such a great time staying...\n",
       "8          When I first arrived at Stephanie's, she was v...\n",
       "9                         awesome couldn't have been better.\n",
       "10         It was a great week at \"chez chic\". Stephanie ...\n",
       "11         My friend and I stayed at the Chez Chic for te...\n",
       "12         Wonderful hostess, kind, willing to help and o...\n",
       "13         Stephanie was the perfect host... welcoming an...\n",
       "14         I was pleasantly surprised to see a clean room...\n",
       "15         What a great location and welcome from Stephan...\n",
       "16         Wow..It was one of my best trip ever. My husba...\n",
       "17         Stephanie was such a wonderful host! We were f...\n",
       "18         It is an excellent place to stay! Clean, quiet...\n",
       "19         What a wonderful apartment and room! We stayed...\n",
       "20         My boyfriend and I stayed at the Chez Chic and...\n",
       "21                                                       NaN\n",
       "22         Stephanie and her family are warm and welcomin...\n",
       "23         It was the 1st time my boyfriend and I were go...\n",
       "24         Stephanie was a great host and the apartment s...\n",
       "25         My husband and i stayed with Stepanie and her ...\n",
       "26         We had a wonderful experience with Stephanie! ...\n",
       "27                         The host cancelled my reservation\n",
       "28         We had a very nice time in Stephanie 's appart...\n",
       "29         Nous avons passÃ© un agrÃ©able sÃ©jour chez St...\n",
       "                                 ...                        \n",
       "1086770    El departamento es excelente. Las fotos public...\n",
       "1086771    Anna is a great hostess, she made us feel welc...\n",
       "1086772    I can't say enough about the host.  She was ve...\n",
       "1086773    I went to New York for a visit with my family ...\n",
       "1086774    We had a great time in NY. Annas place was per...\n",
       "1086775    Anna gave really good directions from the airp...\n",
       "1086776    Anna is a great host! Very welcoming and carin...\n",
       "1086777    Da vi ankom sent til lejligheden, var Anna der...\n",
       "1086778    The place was IMPECCABLE! It was extremely cle...\n",
       "1086779    Anna is a very welcoming and awesome host.\\nVe...\n",
       "1086780    A beautiful and comfortable apartment!  Anna m...\n",
       "1086781    My wife & I chose NYC as our honeymoon locatio...\n",
       "1086782    Anna met us on arrival - keeping in touch with...\n",
       "1086783    My boyfriend and I stayed at Anna's place for ...\n",
       "1086784    Anna was a welcoming and attentive host, respo...\n",
       "1086785    We thoroughly enjoyed our stay at Anna's NYC A...\n",
       "1086786    It was pleasant and very lovely place to stay....\n",
       "1086787    We've--2 adults and a baby--stayed in Anna's a...\n",
       "1086788    My boyfriend and I have stayed in Anna's place...\n",
       "1086789    Fun, spacious, and exceptionally homey, Anna's...\n",
       "1086790    Anna did an excellent job of making us feel we...\n",
       "1086791    This was a great place to stay while visiting ...\n",
       "1086792    Anna's place looked exactly like the pictures ...\n",
       "1086793    Gracious host. She was there to meet us after ...\n",
       "1086794    Anna was friendly and welcoming on our arrival...\n",
       "1086795    I stayed at Anna's apartment when in New York ...\n",
       "1086796    Comfortable apartment and very close to subway...\n",
       "1086797    I recently got back from staying in Anna's pla...\n",
       "1086798    Anna was, as great a host as anyone can have. ...\n",
       "1086799    Anna's place served our needs perfectly.  It w...\n",
       "Name: comments, Length: 3233492, dtype: object"
      ]
     },
     "execution_count": 6,
     "metadata": {},
     "output_type": "execute_result"
    }
   ],
   "source": [
    "train.comments"
   ]
  },
  {
   "cell_type": "code",
   "execution_count": 7,
   "metadata": {},
   "outputs": [],
   "source": [
    "train['clean_comments'] = train['comments'].str.replace(\"[^a-zA-Z#]\", \" \")\n",
    "test['clean_comments'] = test['comments'].str.replace(\"[^a-zA-Z#]\", \" \")"
   ]
  },
  {
   "cell_type": "code",
   "execution_count": 8,
   "metadata": {
    "scrolled": true
   },
   "outputs": [
    {
     "data": {
      "text/plain": [
       "0          Stephanie was a wonderful host  Her apartment ...\n",
       "1          Such a wonderful place and very close to the m...\n",
       "2          I just got back from a trip to NYC during whic...\n",
       "3          Stephanie s offered all the most important thi...\n",
       "4          Stephanie was really nice  ftiendly and helpfu...\n",
       "5          I was pleasantly surprised with my whole stay ...\n",
       "6          Stephanie s apt was great  Very convenient to ...\n",
       "7          my husband and i had such a great time staying...\n",
       "8          When I first arrived at Stephanie s  she was v...\n",
       "9                         awesome couldn t have been better \n",
       "10         It was a great week at  chez chic   Stephanie ...\n",
       "11         My friend and I stayed at the Chez Chic for te...\n",
       "12         Wonderful hostess  kind  willing to help and o...\n",
       "13         Stephanie was the perfect host    welcoming an...\n",
       "14         I was pleasantly surprised to see a clean room...\n",
       "15         What a great location and welcome from Stephan...\n",
       "16         Wow  It was one of my best trip ever  My husba...\n",
       "17         Stephanie was such a wonderful host  We were f...\n",
       "18         It is an excellent place to stay  Clean  quiet...\n",
       "19         What a wonderful apartment and room  We stayed...\n",
       "20         My boyfriend and I stayed at the Chez Chic and...\n",
       "21                                                       NaN\n",
       "22         Stephanie and her family are warm and welcomin...\n",
       "23         It was the  st time my boyfriend and I were go...\n",
       "24         Stephanie was a great host and the apartment s...\n",
       "25         My husband and i stayed with Stepanie and her ...\n",
       "26         We had a wonderful experience with Stephanie  ...\n",
       "27                         The host cancelled my reservation\n",
       "28         We had a very nice time in Stephanie  s appart...\n",
       "29         Nous avons pass   un agr  able s  jour chez St...\n",
       "                                 ...                        \n",
       "1086770    El departamento es excelente  Las fotos public...\n",
       "1086771    Anna is a great hostess  she made us feel welc...\n",
       "1086772    I can t say enough about the host   She was ve...\n",
       "1086773    I went to New York for a visit with my family ...\n",
       "1086774    We had a great time in NY  Annas place was per...\n",
       "1086775    Anna gave really good directions from the airp...\n",
       "1086776    Anna is a great host  Very welcoming and carin...\n",
       "1086777    Da vi ankom sent til lejligheden  var Anna der...\n",
       "1086778    The place was IMPECCABLE  It was extremely cle...\n",
       "1086779    Anna is a very welcoming and awesome host  Ver...\n",
       "1086780    A beautiful and comfortable apartment   Anna m...\n",
       "1086781    My wife   I chose NYC as our honeymoon locatio...\n",
       "1086782    Anna met us on arrival   keeping in touch with...\n",
       "1086783    My boyfriend and I stayed at Anna s place for ...\n",
       "1086784    Anna was a welcoming and attentive host  respo...\n",
       "1086785    We thoroughly enjoyed our stay at Anna s NYC A...\n",
       "1086786    It was pleasant and very lovely place to stay ...\n",
       "1086787    We ve    adults and a baby  stayed in Anna s a...\n",
       "1086788    My boyfriend and I have stayed in Anna s place...\n",
       "1086789    Fun  spacious  and exceptionally homey  Anna s...\n",
       "1086790    Anna did an excellent job of making us feel we...\n",
       "1086791    This was a great place to stay while visiting ...\n",
       "1086792    Anna s place looked exactly like the pictures ...\n",
       "1086793    Gracious host  She was there to meet us after ...\n",
       "1086794    Anna was friendly and welcoming on our arrival...\n",
       "1086795    I stayed at Anna s apartment when in New York ...\n",
       "1086796    Comfortable apartment and very close to subway...\n",
       "1086797    I recently got back from staying in Anna s pla...\n",
       "1086798    Anna was  as great a host as anyone can have  ...\n",
       "1086799    Anna s place served our needs perfectly   It w...\n",
       "Name: clean_comments, Length: 3233492, dtype: object"
      ]
     },
     "execution_count": 8,
     "metadata": {},
     "output_type": "execute_result"
    }
   ],
   "source": [
    "train.clean_comments"
   ]
  },
  {
   "cell_type": "code",
   "execution_count": 9,
   "metadata": {},
   "outputs": [
    {
     "data": {
      "text/plain": [
       "listing_id         int64\n",
       "comments          object\n",
       "clean_comments    object\n",
       "dtype: object"
      ]
     },
     "execution_count": 9,
     "metadata": {},
     "output_type": "execute_result"
    }
   ],
   "source": [
    "train.dtypes\n",
    "train = train.astype({\"clean_comments\": object})\n",
    "train.dtypes"
   ]
  },
  {
   "cell_type": "markdown",
   "metadata": {},
   "source": [
    "## Replace empty value with \"Null\" \n",
    "## Remove small words <=3 characters"
   ]
  },
  {
   "cell_type": "code",
   "execution_count": 10,
   "metadata": {
    "scrolled": true
   },
   "outputs": [],
   "source": [
    "train['clean_comments'] = train['clean_comments'].fillna(\"Null\")\n",
    "train['clean_comments'] = train['clean_comments'].apply(lambda x: ' '.join([w for w in x.split() if len(w)>3]))"
   ]
  },
  {
   "cell_type": "code",
   "execution_count": 11,
   "metadata": {
    "scrolled": true
   },
   "outputs": [
    {
     "data": {
      "text/plain": [
       "0          Stephanie wonderful host apartment beautiful e...\n",
       "1          Such wonderful place very close metro station ...\n",
       "2          just back from trip during which stayed Stepha...\n",
       "3          Stephanie offered most important things warm w...\n",
       "4          Stephanie really nice ftiendly helpful room pe...\n",
       "5          pleasantly surprised with whole stay Stepahnie...\n",
       "6          Stephanie great Very convenient anywhere would...\n",
       "7          husband such great time staying with stephanie...\n",
       "8          When first arrived Stephanie very welcoming pr...\n",
       "9                            awesome couldn have been better\n",
       "10         great week chez chic Stephanie family were rea...\n",
       "11         friend stayed Chez Chic days Stephanie great h...\n",
       "12         Wonderful hostess kind willing help offer advi...\n",
       "13         Stephanie perfect host welcoming generous with...\n",
       "14         pleasantly surprised clean room elegantly deco...\n",
       "15         What great location welcome from Stephanie fam...\n",
       "16         best trip ever husband amazing time Stephanie ...\n",
       "17         Stephanie such wonderful host were familiar wi...\n",
       "18         excellent place stay Clean quiet warm everythi...\n",
       "19         What wonderful apartment room stayed nights Ch...\n",
       "20         boyfriend stayed Chez Chic absolutely fantasti...\n",
       "21                                                      Null\n",
       "22         Stephanie family warm welcoming offering assis...\n",
       "23         time boyfriend were going stay stephanie just ...\n",
       "24         Stephanie great host apartment suited needs pe...\n",
       "25         husband stayed with Stepanie family Chez Chic ...\n",
       "26         wonderful experience with Stephanie Thank baby...\n",
       "27                                host cancelled reservation\n",
       "28         very nice time Stephanie appartement Stephanie...\n",
       "29         Nous avons pass able jour chez phanie famille ...\n",
       "                                 ...                        \n",
       "1086770    departamento excelente fotos publicadas muestr...\n",
       "1086771    Anna great hostess made feel welcome since mom...\n",
       "1086772    enough about host very accommodating helpful p...\n",
       "1086773    went York visit with family stayed Anna place ...\n",
       "1086774    great time Annas place perfect also easy both ...\n",
       "1086775    Anna gave really good directions from airport ...\n",
       "1086776    Anna great host Very welcoming caring really e...\n",
       "1086777    ankom sent lejligheden Anna byde velkommen hav...\n",
       "1086778    place IMPECCABLE extremely clean exactly pictu...\n",
       "1086779    Anna very welcoming awesome host Very helpful ...\n",
       "1086780    beautiful comfortable apartment Anna made ever...\n",
       "1086781    wife chose honeymoon location turned place sta...\n",
       "1086782    Anna arrival keeping touch with left airport t...\n",
       "1086783    boyfriend stayed Anna place nights Upon arriva...\n",
       "1086784    Anna welcoming attentive host responding queri...\n",
       "1086785    thoroughly enjoyed stay Anna Apartment Anna th...\n",
       "1086786    pleasant very lovely place stay Highly recomme...\n",
       "1086787    adults baby stayed Anna twice this year month ...\n",
       "1086788    boyfriend have stayed Anna place December have...\n",
       "1086789    spacious exceptionally homey Anna place Inwood...\n",
       "1086790    Anna excellent making feel welcome very helpfu...\n",
       "1086791    This great place stay while visiting days with...\n",
       "1086792    Anna place looked exactly like pictures shown ...\n",
       "1086793    Gracious host there meet after late flight apa...\n",
       "1086794    Anna friendly welcoming arrival fantastic keep...\n",
       "1086795    stayed Anna apartment when York work could rec...\n",
       "1086796    Comfortable apartment very close subway statio...\n",
       "1086797    recently back from staying Anna place months w...\n",
       "1086798    Anna great host anyone have very responsive qu...\n",
       "1086799    Anna place served needs perfectly very comfort...\n",
       "Name: clean_comments, Length: 3233492, dtype: object"
      ]
     },
     "execution_count": 11,
     "metadata": {},
     "output_type": "execute_result"
    }
   ],
   "source": [
    "train.clean_comments"
   ]
  },
  {
   "cell_type": "markdown",
   "metadata": {},
   "source": [
    "# Tokenization"
   ]
  },
  {
   "cell_type": "code",
   "execution_count": null,
   "metadata": {},
   "outputs": [],
   "source": [
    "from nltk.tokenize import sent_tokenize\n",
    "\n",
    "tokenized_comments = train['clean_comments'].apply(lambda x: x.split())\n",
    "\n",
    "word_tokens = tokenized_comments.apply(lambda x: [sent_tokenize(i) for i in x])"
   ]
  },
  {
   "cell_type": "markdown",
   "metadata": {},
   "source": [
    "# Lexicon Normalization"
   ]
  },
  {
   "cell_type": "code",
   "execution_count": 41,
   "metadata": {},
   "outputs": [],
   "source": [
    "#considers a type of noise data that exists, which are related forms of a word to a root word"
   ]
  },
  {
   "cell_type": "markdown",
   "metadata": {},
   "source": [
    "## Stemming (Remove suffixes)"
   ]
  },
  {
   "cell_type": "code",
   "execution_count": 71,
   "metadata": {},
   "outputs": [],
   "source": [
    "#Stemmer works on an individual word without knowledge of the context"
   ]
  },
  {
   "cell_type": "code",
   "execution_count": 72,
   "metadata": {
    "scrolled": false
   },
   "outputs": [
    {
     "data": {
      "text/plain": [
       "0    [Stephani, wonder, host, apart, beauti, extrem...\n",
       "1    [Such, wonder, place, veri, close, metro, stat...\n",
       "2    [just, back, from, trip, dure, which, stay, St...\n",
       "3    [Stephani, offer, most, import, thing, warm, w...\n",
       "4    [Stephani, realli, nice, ftiend, help, room, p...\n",
       "Name: clean_comments, dtype: object"
      ]
     },
     "execution_count": 72,
     "metadata": {},
     "output_type": "execute_result"
    }
   ],
   "source": [
    "from nltk.stem.porter import *\n",
    "from stemming.porter2 import stem\n",
    "\n",
    "tokenized_comments = tokenized_comments.apply(lambda x: [stem(i) for i in x]) # stemming\n",
    "tokenized_comments.head()"
   ]
  },
  {
   "cell_type": "markdown",
   "metadata": {},
   "source": [
    "## Lemmatization"
   ]
  },
  {
   "cell_type": "code",
   "execution_count": 45,
   "metadata": {},
   "outputs": [],
   "source": [
    "#Lemmatization reduces words to their base word"
   ]
  },
  {
   "cell_type": "code",
   "execution_count": 46,
   "metadata": {
    "scrolled": true
   },
   "outputs": [
    {
     "name": "stdout",
     "output_type": "stream",
     "text": [
      "stephani\n",
      "wonder\n",
      "host\n",
      "apart\n",
      "beauti\n",
      "extrem\n",
      "clean\n",
      "veri\n",
      "nice\n",
      "afford\n",
      "stay\n",
      "citi\n",
      "with\n",
      "privat\n",
      "room\n",
      "bathroom\n"
     ]
    }
   ],
   "source": [
    "#Lexicon Normalization\n",
    "#performing stemming and Lemmatization\n",
    "\n",
    "from nltk.stem.wordnet import WordNetLemmatizer\n",
    "from nltk.corpus import wordnet as wn\n",
    "from nltk.stem.snowball import SnowballStemmer\n",
    "\n",
    "lem = WordNetLemmatizer()\n",
    "stemmer = SnowballStemmer(\"english\")\n",
    "\n",
    "#tokenized_comments = tokenized_comments.apply(lambda x: [for j in x [lem.lemmatize(i) for i in j]]) # lemmatizing\n",
    "    \n",
    "for word in tokenized_comments[0]:\n",
    "    new_word = stemmer.stem(word)\n",
    "    print(new_word)\n"
   ]
  },
  {
   "cell_type": "code",
   "execution_count": 47,
   "metadata": {},
   "outputs": [],
   "source": [
    "#stitch tokens back together"
   ]
  },
  {
   "cell_type": "code",
   "execution_count": 17,
   "metadata": {},
   "outputs": [],
   "source": [
    "for i in range(len(tokenized_comments)):\n",
    "    tokenized_comments[i] = ' '.join(tokenized_comments[i])\n",
    "\n",
    "train['clean_comments'] = tokenized_comments"
   ]
  },
  {
   "cell_type": "code",
   "execution_count": 18,
   "metadata": {},
   "outputs": [
    {
     "data": {
      "text/html": [
       "<div>\n",
       "<style scoped>\n",
       "    .dataframe tbody tr th:only-of-type {\n",
       "        vertical-align: middle;\n",
       "    }\n",
       "\n",
       "    .dataframe tbody tr th {\n",
       "        vertical-align: top;\n",
       "    }\n",
       "\n",
       "    .dataframe thead th {\n",
       "        text-align: right;\n",
       "    }\n",
       "</style>\n",
       "<table border=\"1\" class=\"dataframe\">\n",
       "  <thead>\n",
       "    <tr style=\"text-align: right;\">\n",
       "      <th></th>\n",
       "      <th>listing_id</th>\n",
       "      <th>comments</th>\n",
       "      <th>clean_comments</th>\n",
       "    </tr>\n",
       "  </thead>\n",
       "  <tbody>\n",
       "    <tr>\n",
       "      <th>0</th>\n",
       "      <td>2515</td>\n",
       "      <td>Stephanie was a wonderful host! Her apartment ...</td>\n",
       "      <td>Stephani wonder host apart beauti extrem clean...</td>\n",
       "    </tr>\n",
       "    <tr>\n",
       "      <th>1</th>\n",
       "      <td>2515</td>\n",
       "      <td>Such a wonderful place and very close to the m...</td>\n",
       "      <td>Such wonder place veri close metro station lin...</td>\n",
       "    </tr>\n",
       "    <tr>\n",
       "      <th>2</th>\n",
       "      <td>2515</td>\n",
       "      <td>I just got back from a trip to NYC during whic...</td>\n",
       "      <td>just back from trip dure which stay Stephani a...</td>\n",
       "    </tr>\n",
       "    <tr>\n",
       "      <th>3</th>\n",
       "      <td>2515</td>\n",
       "      <td>Stephanie's offered all the most important thi...</td>\n",
       "      <td>Stephani offer most import thing warm welcom i...</td>\n",
       "    </tr>\n",
       "    <tr>\n",
       "      <th>4</th>\n",
       "      <td>2515</td>\n",
       "      <td>Stephanie was really nice, ftiendly and helpfu...</td>\n",
       "      <td>Stephani realli nice ftiend help room perfect ...</td>\n",
       "    </tr>\n",
       "  </tbody>\n",
       "</table>\n",
       "</div>"
      ],
      "text/plain": [
       "   listing_id                                           comments  \\\n",
       "0        2515  Stephanie was a wonderful host! Her apartment ...   \n",
       "1        2515  Such a wonderful place and very close to the m...   \n",
       "2        2515  I just got back from a trip to NYC during whic...   \n",
       "3        2515  Stephanie's offered all the most important thi...   \n",
       "4        2515  Stephanie was really nice, ftiendly and helpfu...   \n",
       "\n",
       "                                      clean_comments  \n",
       "0  Stephani wonder host apart beauti extrem clean...  \n",
       "1  Such wonder place veri close metro station lin...  \n",
       "2  just back from trip dure which stay Stephani a...  \n",
       "3  Stephani offer most import thing warm welcom i...  \n",
       "4  Stephani realli nice ftiend help room perfect ...  "
      ]
     },
     "execution_count": 18,
     "metadata": {},
     "output_type": "execute_result"
    }
   ],
   "source": [
    "train.head()"
   ]
  },
  {
   "cell_type": "markdown",
   "metadata": {},
   "source": [
    "# Story Generation"
   ]
  },
  {
   "cell_type": "code",
   "execution_count": 73,
   "metadata": {
    "scrolled": true
   },
   "outputs": [
    {
     "data": {
      "image/png": "[encoded data removed]",
      "text/plain": [
       "<Figure size 720x504 with 1 Axes>"
      ]
     },
     "metadata": {
      "needs_background": "light"
     },
     "output_type": "display_data"
    }
   ],
   "source": [
    "all_words = ' '.join([text for text in train['clean_comments']])\n",
    "from wordcloud import WordCloud\n",
    "wordcloud = WordCloud(width=800, height=500, random_state=21, max_font_size=110).generate(all_words)\n",
    "\n",
    "plt.figure(figsize=(10, 7))\n",
    "plt.imshow(wordcloud, interpolation=\"bilinear\")\n",
    "plt.axis('off')\n",
    "plt.show()"
   ]
  },
  {
   "cell_type": "markdown",
   "metadata": {},
   "source": [
    "# POS Tagging"
   ]
  },
  {
   "cell_type": "code",
   "execution_count": 74,
   "metadata": {
    "scrolled": true
   },
   "outputs": [
    {
     "data": {
      "text/plain": [
       "0      [[(Stephanie, NN)], [(wonderful, NN)], [(host,...\n",
       "1      [[(Such, JJ)], [(wonderful, NN)], [(place, NN)...\n",
       "2      [[(just, RB)], [(back, RB)], [(from, IN)], [(t...\n",
       "3      [[(Stephanie, NN)], [(offered, VBN)], [(most, ...\n",
       "4      [[(Stephanie, NN)], [(really, RB)], [(nice, JJ...\n",
       "5      [[(pleasantly, RB)], [(surprised, JJ)], [(with...\n",
       "6      [[(Stephanie, NN)], [(great, JJ)], [(Very, RB)...\n",
       "7      [[(husband, NN)], [(such, JJ)], [(great, JJ)],...\n",
       "8      [[(When, WRB)], [(first, RB)], [(arrived, VBN)...\n",
       "9      [[(awesome, NN)], [(couldn, NN)], [(have, VB)]...\n",
       "10     [[(great, JJ)], [(week, NN)], [(chez, NN)], [(...\n",
       "11     [[(friend, NN)], [(stayed, NN)], [(Chez, NN)],...\n",
       "12     [[(Wonderful, JJ)], [(hostess, NN)], [(kind, N...\n",
       "13     [[(Stephanie, NN)], [(perfect, NN)], [(host, N...\n",
       "14     [[(pleasantly, RB)], [(surprised, JJ)], [(clea...\n",
       "15     [[(What, WP)], [(great, JJ)], [(location, NN)]...\n",
       "16     [[(best, JJS)], [(trip, NN)], [(ever, RB)], [(...\n",
       "17     [[(Stephanie, NN)], [(such, JJ)], [(wonderful,...\n",
       "18     [[(excellent, NN)], [(place, NN)], [(stay, NN)...\n",
       "19     [[(What, WP)], [(wonderful, NN)], [(apartment,...\n",
       "20     [[(boyfriend, NN)], [(stayed, NN)], [(Chez, NN...\n",
       "21                                        [[(Null, NN)]]\n",
       "22     [[(Stephanie, NN)], [(family, NN)], [(warm, NN...\n",
       "23     [[(time, NN)], [(boyfriend, NN)], [(were, VBD)...\n",
       "24     [[(Stephanie, NN)], [(great, JJ)], [(host, NN)...\n",
       "25     [[(husband, NN)], [(stayed, NN)], [(with, IN)]...\n",
       "26     [[(wonderful, NN)], [(experience, NN)], [(with...\n",
       "27     [[(host, NN)], [(cancelled, VBN)], [(reservati...\n",
       "28     [[(very, RB)], [(nice, JJ)], [(time, NN)], [(S...\n",
       "29     [[(Nous, JJ)], [(avons, NNS)], [(pass, NN)], [...\n",
       "                             ...                        \n",
       "970    [[(Nous, JJ)], [(avons, NNS)], [(bien, NN)], [...\n",
       "971    [[(will, MD)], [(divide, NN)], [(evaluation, N...\n",
       "972    [[(Nous, JJ)], [(avons, NNS)], [(journ, NN)], ...\n",
       "973    [[(room, NN)], [(small, JJ)], [(everything, NN...\n",
       "974    [[(Never, RB)], [(Shunichi, NN)], [(during, IN...\n",
       "975    [[(Great, NN)], [(place, NN)], [(stay, NN)], [...\n",
       "976    [[(Great, NN)], [(location, NN)], [(true, JJ)]...\n",
       "977    [[(location, NN)], [(amazing, VBG)], [(super, ...\n",
       "978    [[(barrio, NN)], [(excelente, NN)], [(Falto, N...\n",
       "979    [[(Quartier, NN)], [(alement, NN)], [(situ, NN...\n",
       "980    [[(Great, NN)], [(location, NN)], [(looking, V...\n",
       "981    [[(Shunichi, NN)], [(place, NN)], [(perfect, N...\n",
       "982    [[(nice, JJ)], [(speak, NN)], [(English, JJ)],...\n",
       "983    [[(Shunichi, NN)], [(place, NN)], [(relatively...\n",
       "984    [[(ubicaci, NN)], [(excelente, NN)], [(mejor, ...\n",
       "985    [[(Building, NN)], [(easy, JJ)], [(find, VB)],...\n",
       "986    [[(Shunichi, NN)], [(place, NN)], [(great, JJ)...\n",
       "987    [[(Perfect, NN)], [(location, NN)], [(quality,...\n",
       "988    [[(location, NN)], [(this, DT)], [(apartment, ...\n",
       "989    [[(amie, NN)], [(avons, NNS)], [(profit, NN)],...\n",
       "990    [[(stayed, NN)], [(night, NN)], [(concert, NN)...\n",
       "991    [[(Very, RB)], [(nice, JJ)], [(little, JJ)], [...\n",
       "992    [[(Shunichi, NN)], [(easy, JJ)], [(communicate...\n",
       "993    [[(apartment, NN)], [(amazing, VBG)], [(locati...\n",
       "994    [[(Great, NN)], [(location, NN)], [(comfy, NN)...\n",
       "995    [[(perfect, NN)], [(place, NN)], [(stay, NN)],...\n",
       "996    [[(Chambre, NN)], [(bien, NN)], [(situ, NN)], ...\n",
       "997    [[(This, DT)], [(really, RB)], [(super, NN)], ...\n",
       "998    [[(Quiet, JJ)], [(affordable, JJ)], [(place, N...\n",
       "999    [[(Plus, CC)], [(jamais, NN)], [(Honteux, NN)]...\n",
       "Name: clean_comments, Length: 1000, dtype: object"
      ]
     },
     "execution_count": 74,
     "metadata": {},
     "output_type": "execute_result"
    }
   ],
   "source": [
    "import nltk\n",
    "\n",
    "word_tokens.apply(lambda x: [nltk.pos_tag(i) for i in x])"
   ]
  },
  {
   "cell_type": "code",
   "execution_count": 13,
   "metadata": {
    "scrolled": false
   },
   "outputs": [
    {
     "data": {
      "text/html": [
       "<div>\n",
       "<style scoped>\n",
       "    .dataframe tbody tr th:only-of-type {\n",
       "        vertical-align: middle;\n",
       "    }\n",
       "\n",
       "    .dataframe tbody tr th {\n",
       "        vertical-align: top;\n",
       "    }\n",
       "\n",
       "    .dataframe thead th {\n",
       "        text-align: right;\n",
       "    }\n",
       "</style>\n",
       "<table border=\"1\" class=\"dataframe\">\n",
       "  <thead>\n",
       "    <tr style=\"text-align: right;\">\n",
       "      <th></th>\n",
       "      <th>listing_id</th>\n",
       "      <th>comments</th>\n",
       "      <th>clean_comments</th>\n",
       "      <th>negative</th>\n",
       "      <th>positive</th>\n",
       "    </tr>\n",
       "  </thead>\n",
       "  <tbody>\n",
       "    <tr>\n",
       "      <th>0</th>\n",
       "      <td>2515</td>\n",
       "      <td>Stephanie was a wonderful host! Her apartment ...</td>\n",
       "      <td>Stephanie wonderful host apartment beautiful e...</td>\n",
       "      <td>0.599333</td>\n",
       "      <td>0.815000</td>\n",
       "    </tr>\n",
       "    <tr>\n",
       "      <th>1</th>\n",
       "      <td>2515</td>\n",
       "      <td>Such a wonderful place and very close to the m...</td>\n",
       "      <td>Such wonderful place very close metro station ...</td>\n",
       "      <td>0.361905</td>\n",
       "      <td>0.504762</td>\n",
       "    </tr>\n",
       "    <tr>\n",
       "      <th>2</th>\n",
       "      <td>2515</td>\n",
       "      <td>I just got back from a trip to NYC during whic...</td>\n",
       "      <td>just back from trip during which stayed Stepha...</td>\n",
       "      <td>0.174602</td>\n",
       "      <td>0.435032</td>\n",
       "    </tr>\n",
       "    <tr>\n",
       "      <th>3</th>\n",
       "      <td>2515</td>\n",
       "      <td>Stephanie's offered all the most important thi...</td>\n",
       "      <td>Stephanie offered most important things warm w...</td>\n",
       "      <td>0.350000</td>\n",
       "      <td>0.632639</td>\n",
       "    </tr>\n",
       "    <tr>\n",
       "      <th>4</th>\n",
       "      <td>2515</td>\n",
       "      <td>Stephanie was really nice, ftiendly and helpfu...</td>\n",
       "      <td>Stephanie really nice ftiendly helpful room pe...</td>\n",
       "      <td>0.721111</td>\n",
       "      <td>1.000000</td>\n",
       "    </tr>\n",
       "  </tbody>\n",
       "</table>\n",
       "</div>"
      ],
      "text/plain": [
       "   listing_id                                           comments  \\\n",
       "0        2515  Stephanie was a wonderful host! Her apartment ...   \n",
       "1        2515  Such a wonderful place and very close to the m...   \n",
       "2        2515  I just got back from a trip to NYC during whic...   \n",
       "3        2515  Stephanie's offered all the most important thi...   \n",
       "4        2515  Stephanie was really nice, ftiendly and helpfu...   \n",
       "\n",
       "                                      clean_comments  negative  positive  \n",
       "0  Stephanie wonderful host apartment beautiful e...  0.599333  0.815000  \n",
       "1  Such wonderful place very close metro station ...  0.361905  0.504762  \n",
       "2  just back from trip during which stayed Stepha...  0.174602  0.435032  \n",
       "3  Stephanie offered most important things warm w...  0.350000  0.632639  \n",
       "4  Stephanie really nice ftiendly helpful room pe...  0.721111  1.000000  "
      ]
     },
     "execution_count": 13,
     "metadata": {},
     "output_type": "execute_result"
    }
   ],
   "source": [
    "from textblob import TextBlob\n",
    "from textblob.sentiments import NaiveBayesAnalyzer\n",
    "\n",
    "train[['negative', 'positive']] = train['clean_comments'].apply(lambda Text: pd.Series(TextBlob(Text).sentiment))\n",
    "train.head()"
   ]
  },
  {
   "cell_type": "code",
   "execution_count": 14,
   "metadata": {
    "scrolled": false
   },
   "outputs": [
    {
     "data": {
      "text/html": [
       "<div>\n",
       "<style scoped>\n",
       "    .dataframe tbody tr th:only-of-type {\n",
       "        vertical-align: middle;\n",
       "    }\n",
       "\n",
       "    .dataframe tbody tr th {\n",
       "        vertical-align: top;\n",
       "    }\n",
       "\n",
       "    .dataframe thead th {\n",
       "        text-align: right;\n",
       "    }\n",
       "</style>\n",
       "<table border=\"1\" class=\"dataframe\">\n",
       "  <thead>\n",
       "    <tr style=\"text-align: right;\">\n",
       "      <th></th>\n",
       "      <th>listing_id</th>\n",
       "      <th>negative</th>\n",
       "      <th>positive</th>\n",
       "    </tr>\n",
       "  </thead>\n",
       "  <tbody>\n",
       "    <tr>\n",
       "      <th>0</th>\n",
       "      <td>2515</td>\n",
       "      <td>0.599333</td>\n",
       "      <td>0.815000</td>\n",
       "    </tr>\n",
       "    <tr>\n",
       "      <th>1</th>\n",
       "      <td>2515</td>\n",
       "      <td>0.361905</td>\n",
       "      <td>0.504762</td>\n",
       "    </tr>\n",
       "    <tr>\n",
       "      <th>2</th>\n",
       "      <td>2515</td>\n",
       "      <td>0.174602</td>\n",
       "      <td>0.435032</td>\n",
       "    </tr>\n",
       "    <tr>\n",
       "      <th>3</th>\n",
       "      <td>2515</td>\n",
       "      <td>0.350000</td>\n",
       "      <td>0.632639</td>\n",
       "    </tr>\n",
       "    <tr>\n",
       "      <th>4</th>\n",
       "      <td>2515</td>\n",
       "      <td>0.721111</td>\n",
       "      <td>1.000000</td>\n",
       "    </tr>\n",
       "  </tbody>\n",
       "</table>\n",
       "</div>"
      ],
      "text/plain": [
       "   listing_id  negative  positive\n",
       "0        2515  0.599333  0.815000\n",
       "1        2515  0.361905  0.504762\n",
       "2        2515  0.174602  0.435032\n",
       "3        2515  0.350000  0.632639\n",
       "4        2515  0.721111  1.000000"
      ]
     },
     "execution_count": 14,
     "metadata": {},
     "output_type": "execute_result"
    }
   ],
   "source": [
    "review_avg = train.drop(columns = ['comments', 'clean_comments'])\n",
    "review_avg.head()"
   ]
  },
  {
   "cell_type": "markdown",
   "metadata": {},
   "source": [
    "## Group polarity scores and average"
   ]
  },
  {
   "cell_type": "code",
   "execution_count": 15,
   "metadata": {
    "scrolled": true
   },
   "outputs": [
    {
     "name": "stdout",
     "output_type": "stream",
     "text": [
      "<class 'pandas.core.frame.DataFrame'>\n",
      "Int64Index: 45124 entries, 0 to 45123\n",
      "Data columns (total 3 columns):\n",
      "listing_id    45124 non-null int64\n",
      "positive      45124 non-null float64\n",
      "negative      45124 non-null float64\n",
      "dtypes: float64(2), int64(1)\n",
      "memory usage: 1.4 MB\n"
     ]
    }
   ],
   "source": [
    "df_mean = review_avg.groupby(['listing_id'], as_index= False)[['positive','negative']].mean()\n",
    "df_mean.head()\n",
    "df_mean.info()"
   ]
  },
  {
   "cell_type": "code",
   "execution_count": 16,
   "metadata": {
    "scrolled": true
   },
   "outputs": [
    {
     "data": {
      "text/html": [
       "<div>\n",
       "<style scoped>\n",
       "    .dataframe tbody tr th:only-of-type {\n",
       "        vertical-align: middle;\n",
       "    }\n",
       "\n",
       "    .dataframe tbody tr th {\n",
       "        vertical-align: top;\n",
       "    }\n",
       "\n",
       "    .dataframe thead th {\n",
       "        text-align: right;\n",
       "    }\n",
       "</style>\n",
       "<table border=\"1\" class=\"dataframe\">\n",
       "  <thead>\n",
       "    <tr style=\"text-align: right;\">\n",
       "      <th></th>\n",
       "      <th>Unnamed: 0</th>\n",
       "      <th>id</th>\n",
       "      <th>host_id</th>\n",
       "      <th>zipcode</th>\n",
       "      <th>neighbourhood_cleansed</th>\n",
       "      <th>property_type</th>\n",
       "      <th>room_type</th>\n",
       "      <th>accommodates</th>\n",
       "      <th>bedrooms</th>\n",
       "      <th>beds</th>\n",
       "      <th>bed_type</th>\n",
       "      <th>price</th>\n",
       "      <th>number_of_reviews</th>\n",
       "      <th>review_scores_rating</th>\n",
       "      <th>availability_30</th>\n",
       "      <th>minimum_nights</th>\n",
       "      <th>bathrooms</th>\n",
       "      <th>host_is_superhost</th>\n",
       "      <th>host_response_rate</th>\n",
       "    </tr>\n",
       "  </thead>\n",
       "  <tbody>\n",
       "    <tr>\n",
       "      <th>0</th>\n",
       "      <td>0</td>\n",
       "      <td>2515</td>\n",
       "      <td>2758</td>\n",
       "      <td>10026</td>\n",
       "      <td>Harlem</td>\n",
       "      <td>Apartment</td>\n",
       "      <td>1.01</td>\n",
       "      <td>3</td>\n",
       "      <td>1.0</td>\n",
       "      <td>2.0</td>\n",
       "      <td>1.00</td>\n",
       "      <td>59.0</td>\n",
       "      <td>173</td>\n",
       "      <td>93.0</td>\n",
       "      <td>10</td>\n",
       "      <td>2</td>\n",
       "      <td>1.0</td>\n",
       "      <td>0.0</td>\n",
       "      <td>0.0</td>\n",
       "    </tr>\n",
       "    <tr>\n",
       "      <th>1</th>\n",
       "      <td>1</td>\n",
       "      <td>2539</td>\n",
       "      <td>2787</td>\n",
       "      <td>11218</td>\n",
       "      <td>Kensington</td>\n",
       "      <td>Apartment</td>\n",
       "      <td>1.01</td>\n",
       "      <td>4</td>\n",
       "      <td>1.0</td>\n",
       "      <td>3.0</td>\n",
       "      <td>1.00</td>\n",
       "      <td>149.0</td>\n",
       "      <td>8</td>\n",
       "      <td>98.0</td>\n",
       "      <td>25</td>\n",
       "      <td>1</td>\n",
       "      <td>1.0</td>\n",
       "      <td>1.0</td>\n",
       "      <td>0.0</td>\n",
       "    </tr>\n",
       "    <tr>\n",
       "      <th>2</th>\n",
       "      <td>2</td>\n",
       "      <td>2595</td>\n",
       "      <td>2845</td>\n",
       "      <td>10018</td>\n",
       "      <td>Midtown</td>\n",
       "      <td>Apartment</td>\n",
       "      <td>1.00</td>\n",
       "      <td>2</td>\n",
       "      <td>0.0</td>\n",
       "      <td>1.0</td>\n",
       "      <td>1.00</td>\n",
       "      <td>225.0</td>\n",
       "      <td>36</td>\n",
       "      <td>94.0</td>\n",
       "      <td>20</td>\n",
       "      <td>1</td>\n",
       "      <td>1.0</td>\n",
       "      <td>0.0</td>\n",
       "      <td>80.0</td>\n",
       "    </tr>\n",
       "    <tr>\n",
       "      <th>3</th>\n",
       "      <td>3</td>\n",
       "      <td>3330</td>\n",
       "      <td>4177</td>\n",
       "      <td>11206</td>\n",
       "      <td>Williamsburg</td>\n",
       "      <td>Apartment</td>\n",
       "      <td>1.01</td>\n",
       "      <td>2</td>\n",
       "      <td>1.0</td>\n",
       "      <td>1.0</td>\n",
       "      <td>1.00</td>\n",
       "      <td>70.0</td>\n",
       "      <td>34</td>\n",
       "      <td>97.0</td>\n",
       "      <td>1</td>\n",
       "      <td>5</td>\n",
       "      <td>1.0</td>\n",
       "      <td>0.0</td>\n",
       "      <td>0.0</td>\n",
       "    </tr>\n",
       "    <tr>\n",
       "      <th>4</th>\n",
       "      <td>4</td>\n",
       "      <td>3647</td>\n",
       "      <td>4632</td>\n",
       "      <td>10027</td>\n",
       "      <td>Harlem</td>\n",
       "      <td>Apartment</td>\n",
       "      <td>1.01</td>\n",
       "      <td>2</td>\n",
       "      <td>1.0</td>\n",
       "      <td>1.0</td>\n",
       "      <td>1.02</td>\n",
       "      <td>150.0</td>\n",
       "      <td>0</td>\n",
       "      <td>NaN</td>\n",
       "      <td>30</td>\n",
       "      <td>3</td>\n",
       "      <td>1.0</td>\n",
       "      <td>0.0</td>\n",
       "      <td>50.0</td>\n",
       "    </tr>\n",
       "  </tbody>\n",
       "</table>\n",
       "</div>"
      ],
      "text/plain": [
       "   Unnamed: 0    id  host_id zipcode neighbourhood_cleansed property_type  \\\n",
       "0           0  2515     2758   10026                 Harlem     Apartment   \n",
       "1           1  2539     2787   11218             Kensington     Apartment   \n",
       "2           2  2595     2845   10018                Midtown     Apartment   \n",
       "3           3  3330     4177   11206           Williamsburg     Apartment   \n",
       "4           4  3647     4632   10027                 Harlem     Apartment   \n",
       "\n",
       "   room_type  accommodates  bedrooms  beds  bed_type  price  \\\n",
       "0       1.01             3       1.0   2.0      1.00   59.0   \n",
       "1       1.01             4       1.0   3.0      1.00  149.0   \n",
       "2       1.00             2       0.0   1.0      1.00  225.0   \n",
       "3       1.01             2       1.0   1.0      1.00   70.0   \n",
       "4       1.01             2       1.0   1.0      1.02  150.0   \n",
       "\n",
       "   number_of_reviews  review_scores_rating  availability_30  minimum_nights  \\\n",
       "0                173                  93.0               10               2   \n",
       "1                  8                  98.0               25               1   \n",
       "2                 36                  94.0               20               1   \n",
       "3                 34                  97.0                1               5   \n",
       "4                  0                   NaN               30               3   \n",
       "\n",
       "   bathrooms  host_is_superhost  host_response_rate  \n",
       "0        1.0                0.0                 0.0  \n",
       "1        1.0                1.0                 0.0  \n",
       "2        1.0                0.0                80.0  \n",
       "3        1.0                0.0                 0.0  \n",
       "4        1.0                0.0                50.0  "
      ]
     },
     "execution_count": 16,
     "metadata": {},
     "output_type": "execute_result"
    }
   ],
   "source": [
    "ds4 = pd.read_csv('./dataset/airbnb_cleaned.csv', encoding='Latin-1')\n",
    "ds4.head()"
   ]
  },
  {
   "cell_type": "markdown",
   "metadata": {},
   "source": [
    "## Merge to original dataframe"
   ]
  },
  {
   "cell_type": "code",
   "execution_count": 17,
   "metadata": {},
   "outputs": [
    {
     "data": {
      "text/plain": [
       "Index(['Unnamed: 0', 'id', 'host_id', 'zipcode', 'neighbourhood_cleansed',\n",
       "       'property_type', 'room_type', 'accommodates', 'bedrooms', 'beds',\n",
       "       'bed_type', 'price', 'number_of_reviews', 'review_scores_rating',\n",
       "       'availability_30', 'minimum_nights', 'bathrooms', 'host_is_superhost',\n",
       "       'host_response_rate', 'positive', 'negative'],\n",
       "      dtype='object')"
      ]
     },
     "execution_count": 17,
     "metadata": {},
     "output_type": "execute_result"
    }
   ],
   "source": [
    "new_df = pd.merge(ds4, df_mean, left_on='id', right_on='listing_id', how='left').drop('listing_id', axis=1)\n",
    "new_df.columns"
   ]
  },
  {
   "cell_type": "code",
   "execution_count": 27,
   "metadata": {},
   "outputs": [],
   "source": [
    "new_df = pd.read_csv('./dataset/airbnb_with_sentiment.csv', encoding='Latin-1')"
   ]
  },
  {
   "cell_type": "code",
   "execution_count": 28,
   "metadata": {},
   "outputs": [
    {
     "data": {
      "text/html": [
       "<div>\n",
       "<style scoped>\n",
       "    .dataframe tbody tr th:only-of-type {\n",
       "        vertical-align: middle;\n",
       "    }\n",
       "\n",
       "    .dataframe tbody tr th {\n",
       "        vertical-align: top;\n",
       "    }\n",
       "\n",
       "    .dataframe thead th {\n",
       "        text-align: right;\n",
       "    }\n",
       "</style>\n",
       "<table border=\"1\" class=\"dataframe\">\n",
       "  <thead>\n",
       "    <tr style=\"text-align: right;\">\n",
       "      <th></th>\n",
       "      <th>Unnamed: 0</th>\n",
       "      <th>Unnamed: 0.1</th>\n",
       "      <th>id</th>\n",
       "      <th>host_id</th>\n",
       "      <th>zipcode</th>\n",
       "      <th>neighbourhood_cleansed</th>\n",
       "      <th>property_type</th>\n",
       "      <th>room_type</th>\n",
       "      <th>accommodates</th>\n",
       "      <th>bedrooms</th>\n",
       "      <th>...</th>\n",
       "      <th>price</th>\n",
       "      <th>number_of_reviews</th>\n",
       "      <th>review_scores_rating</th>\n",
       "      <th>availability_30</th>\n",
       "      <th>minimum_nights</th>\n",
       "      <th>bathrooms</th>\n",
       "      <th>host_is_superhost</th>\n",
       "      <th>host_response_rate</th>\n",
       "      <th>positive</th>\n",
       "      <th>negative</th>\n",
       "    </tr>\n",
       "  </thead>\n",
       "  <tbody>\n",
       "    <tr>\n",
       "      <th>0</th>\n",
       "      <td>0</td>\n",
       "      <td>0</td>\n",
       "      <td>2515</td>\n",
       "      <td>2758</td>\n",
       "      <td>10026</td>\n",
       "      <td>Harlem</td>\n",
       "      <td>Apartment</td>\n",
       "      <td>1.01</td>\n",
       "      <td>3</td>\n",
       "      <td>1.0</td>\n",
       "      <td>...</td>\n",
       "      <td>59.0</td>\n",
       "      <td>173</td>\n",
       "      <td>93.0</td>\n",
       "      <td>10</td>\n",
       "      <td>2</td>\n",
       "      <td>1.0</td>\n",
       "      <td>0.0</td>\n",
       "      <td>0.0</td>\n",
       "      <td>0.488144</td>\n",
       "      <td>0.303227</td>\n",
       "    </tr>\n",
       "    <tr>\n",
       "      <th>1</th>\n",
       "      <td>1</td>\n",
       "      <td>1</td>\n",
       "      <td>2539</td>\n",
       "      <td>2787</td>\n",
       "      <td>11218</td>\n",
       "      <td>Kensington</td>\n",
       "      <td>Apartment</td>\n",
       "      <td>1.01</td>\n",
       "      <td>4</td>\n",
       "      <td>1.0</td>\n",
       "      <td>...</td>\n",
       "      <td>149.0</td>\n",
       "      <td>8</td>\n",
       "      <td>98.0</td>\n",
       "      <td>25</td>\n",
       "      <td>1</td>\n",
       "      <td>1.0</td>\n",
       "      <td>1.0</td>\n",
       "      <td>0.0</td>\n",
       "      <td>0.600259</td>\n",
       "      <td>0.465383</td>\n",
       "    </tr>\n",
       "    <tr>\n",
       "      <th>2</th>\n",
       "      <td>2</td>\n",
       "      <td>2</td>\n",
       "      <td>2595</td>\n",
       "      <td>2845</td>\n",
       "      <td>10018</td>\n",
       "      <td>Midtown</td>\n",
       "      <td>Apartment</td>\n",
       "      <td>1.00</td>\n",
       "      <td>2</td>\n",
       "      <td>0.0</td>\n",
       "      <td>...</td>\n",
       "      <td>225.0</td>\n",
       "      <td>36</td>\n",
       "      <td>94.0</td>\n",
       "      <td>20</td>\n",
       "      <td>1</td>\n",
       "      <td>1.0</td>\n",
       "      <td>0.0</td>\n",
       "      <td>80.0</td>\n",
       "      <td>0.552056</td>\n",
       "      <td>0.352874</td>\n",
       "    </tr>\n",
       "    <tr>\n",
       "      <th>3</th>\n",
       "      <td>3</td>\n",
       "      <td>3</td>\n",
       "      <td>3330</td>\n",
       "      <td>4177</td>\n",
       "      <td>11206</td>\n",
       "      <td>Williamsburg</td>\n",
       "      <td>Apartment</td>\n",
       "      <td>1.01</td>\n",
       "      <td>2</td>\n",
       "      <td>1.0</td>\n",
       "      <td>...</td>\n",
       "      <td>70.0</td>\n",
       "      <td>34</td>\n",
       "      <td>97.0</td>\n",
       "      <td>1</td>\n",
       "      <td>5</td>\n",
       "      <td>1.0</td>\n",
       "      <td>0.0</td>\n",
       "      <td>0.0</td>\n",
       "      <td>0.577553</td>\n",
       "      <td>0.357564</td>\n",
       "    </tr>\n",
       "    <tr>\n",
       "      <th>4</th>\n",
       "      <td>4</td>\n",
       "      <td>4</td>\n",
       "      <td>3647</td>\n",
       "      <td>4632</td>\n",
       "      <td>10027</td>\n",
       "      <td>Harlem</td>\n",
       "      <td>Apartment</td>\n",
       "      <td>1.01</td>\n",
       "      <td>2</td>\n",
       "      <td>1.0</td>\n",
       "      <td>...</td>\n",
       "      <td>150.0</td>\n",
       "      <td>0</td>\n",
       "      <td>NaN</td>\n",
       "      <td>30</td>\n",
       "      <td>3</td>\n",
       "      <td>1.0</td>\n",
       "      <td>0.0</td>\n",
       "      <td>50.0</td>\n",
       "      <td>NaN</td>\n",
       "      <td>NaN</td>\n",
       "    </tr>\n",
       "  </tbody>\n",
       "</table>\n",
       "<p>5 rows × 22 columns</p>\n",
       "</div>"
      ],
      "text/plain": [
       "   Unnamed: 0  Unnamed: 0.1    id  host_id zipcode neighbourhood_cleansed  \\\n",
       "0           0             0  2515     2758   10026                 Harlem   \n",
       "1           1             1  2539     2787   11218             Kensington   \n",
       "2           2             2  2595     2845   10018                Midtown   \n",
       "3           3             3  3330     4177   11206           Williamsburg   \n",
       "4           4             4  3647     4632   10027                 Harlem   \n",
       "\n",
       "  property_type  room_type  accommodates  bedrooms  ...  price  \\\n",
       "0     Apartment       1.01             3       1.0  ...   59.0   \n",
       "1     Apartment       1.01             4       1.0  ...  149.0   \n",
       "2     Apartment       1.00             2       0.0  ...  225.0   \n",
       "3     Apartment       1.01             2       1.0  ...   70.0   \n",
       "4     Apartment       1.01             2       1.0  ...  150.0   \n",
       "\n",
       "   number_of_reviews  review_scores_rating  availability_30  minimum_nights  \\\n",
       "0                173                  93.0               10               2   \n",
       "1                  8                  98.0               25               1   \n",
       "2                 36                  94.0               20               1   \n",
       "3                 34                  97.0                1               5   \n",
       "4                  0                   NaN               30               3   \n",
       "\n",
       "   bathrooms  host_is_superhost  host_response_rate  positive  negative  \n",
       "0        1.0                0.0                 0.0  0.488144  0.303227  \n",
       "1        1.0                1.0                 0.0  0.600259  0.465383  \n",
       "2        1.0                0.0                80.0  0.552056  0.352874  \n",
       "3        1.0                0.0                 0.0  0.577553  0.357564  \n",
       "4        1.0                0.0                50.0       NaN       NaN  \n",
       "\n",
       "[5 rows x 22 columns]"
      ]
     },
     "execution_count": 28,
     "metadata": {},
     "output_type": "execute_result"
    }
   ],
   "source": [
    "new_df.head()"
   ]
  },
  {
   "cell_type": "code",
   "execution_count": 33,
   "metadata": {
    "scrolled": true
   },
   "outputs": [],
   "source": [
    "new_df = new_df.dropna()"
   ]
  },
  {
   "cell_type": "code",
   "execution_count": 38,
   "metadata": {},
   "outputs": [
    {
     "data": {
      "text/html": [
       "<div>\n",
       "<style scoped>\n",
       "    .dataframe tbody tr th:only-of-type {\n",
       "        vertical-align: middle;\n",
       "    }\n",
       "\n",
       "    .dataframe tbody tr th {\n",
       "        vertical-align: top;\n",
       "    }\n",
       "\n",
       "    .dataframe thead th {\n",
       "        text-align: right;\n",
       "    }\n",
       "</style>\n",
       "<table border=\"1\" class=\"dataframe\">\n",
       "  <thead>\n",
       "    <tr style=\"text-align: right;\">\n",
       "      <th></th>\n",
       "      <th>Unnamed: 0</th>\n",
       "      <th>Unnamed: 0.1</th>\n",
       "      <th>Unnamed: 0.1.1</th>\n",
       "      <th>Unnamed: 0.1.1.1</th>\n",
       "      <th>id</th>\n",
       "      <th>host_id</th>\n",
       "      <th>zipcode</th>\n",
       "      <th>neighbourhood_cleansed</th>\n",
       "      <th>property_type</th>\n",
       "      <th>room_type</th>\n",
       "      <th>...</th>\n",
       "      <th>price</th>\n",
       "      <th>number_of_reviews</th>\n",
       "      <th>review_scores_rating</th>\n",
       "      <th>availability_30</th>\n",
       "      <th>minimum_nights</th>\n",
       "      <th>bathrooms</th>\n",
       "      <th>host_is_superhost</th>\n",
       "      <th>host_response_rate</th>\n",
       "      <th>positive</th>\n",
       "      <th>negative</th>\n",
       "    </tr>\n",
       "  </thead>\n",
       "  <tbody>\n",
       "    <tr>\n",
       "      <th>0</th>\n",
       "      <td>0</td>\n",
       "      <td>0</td>\n",
       "      <td>0</td>\n",
       "      <td>0</td>\n",
       "      <td>2515</td>\n",
       "      <td>2758</td>\n",
       "      <td>10026</td>\n",
       "      <td>Harlem</td>\n",
       "      <td>Apartment</td>\n",
       "      <td>1.01</td>\n",
       "      <td>...</td>\n",
       "      <td>59.0</td>\n",
       "      <td>173</td>\n",
       "      <td>93.0</td>\n",
       "      <td>10</td>\n",
       "      <td>2</td>\n",
       "      <td>1.0</td>\n",
       "      <td>0.0</td>\n",
       "      <td>0.0</td>\n",
       "      <td>0.488144</td>\n",
       "      <td>0.303227</td>\n",
       "    </tr>\n",
       "    <tr>\n",
       "      <th>1</th>\n",
       "      <td>1</td>\n",
       "      <td>1</td>\n",
       "      <td>1</td>\n",
       "      <td>1</td>\n",
       "      <td>2539</td>\n",
       "      <td>2787</td>\n",
       "      <td>11218</td>\n",
       "      <td>Kensington</td>\n",
       "      <td>Apartment</td>\n",
       "      <td>1.01</td>\n",
       "      <td>...</td>\n",
       "      <td>149.0</td>\n",
       "      <td>8</td>\n",
       "      <td>98.0</td>\n",
       "      <td>25</td>\n",
       "      <td>1</td>\n",
       "      <td>1.0</td>\n",
       "      <td>1.0</td>\n",
       "      <td>0.0</td>\n",
       "      <td>0.600259</td>\n",
       "      <td>0.465383</td>\n",
       "    </tr>\n",
       "    <tr>\n",
       "      <th>2</th>\n",
       "      <td>2</td>\n",
       "      <td>2</td>\n",
       "      <td>2</td>\n",
       "      <td>2</td>\n",
       "      <td>2595</td>\n",
       "      <td>2845</td>\n",
       "      <td>10018</td>\n",
       "      <td>Midtown</td>\n",
       "      <td>Apartment</td>\n",
       "      <td>1.00</td>\n",
       "      <td>...</td>\n",
       "      <td>225.0</td>\n",
       "      <td>36</td>\n",
       "      <td>94.0</td>\n",
       "      <td>20</td>\n",
       "      <td>1</td>\n",
       "      <td>1.0</td>\n",
       "      <td>0.0</td>\n",
       "      <td>80.0</td>\n",
       "      <td>0.552056</td>\n",
       "      <td>0.352874</td>\n",
       "    </tr>\n",
       "    <tr>\n",
       "      <th>3</th>\n",
       "      <td>3</td>\n",
       "      <td>3</td>\n",
       "      <td>3</td>\n",
       "      <td>3</td>\n",
       "      <td>3330</td>\n",
       "      <td>4177</td>\n",
       "      <td>11206</td>\n",
       "      <td>Williamsburg</td>\n",
       "      <td>Apartment</td>\n",
       "      <td>1.01</td>\n",
       "      <td>...</td>\n",
       "      <td>70.0</td>\n",
       "      <td>34</td>\n",
       "      <td>97.0</td>\n",
       "      <td>1</td>\n",
       "      <td>5</td>\n",
       "      <td>1.0</td>\n",
       "      <td>0.0</td>\n",
       "      <td>0.0</td>\n",
       "      <td>0.577553</td>\n",
       "      <td>0.357564</td>\n",
       "    </tr>\n",
       "    <tr>\n",
       "      <th>4</th>\n",
       "      <td>5</td>\n",
       "      <td>5</td>\n",
       "      <td>5</td>\n",
       "      <td>5</td>\n",
       "      <td>3831</td>\n",
       "      <td>4869</td>\n",
       "      <td>11238</td>\n",
       "      <td>Clinton Hill</td>\n",
       "      <td>Guest suite</td>\n",
       "      <td>1.00</td>\n",
       "      <td>...</td>\n",
       "      <td>89.0</td>\n",
       "      <td>213</td>\n",
       "      <td>91.0</td>\n",
       "      <td>0</td>\n",
       "      <td>1</td>\n",
       "      <td>1.0</td>\n",
       "      <td>0.0</td>\n",
       "      <td>100.0</td>\n",
       "      <td>0.543768</td>\n",
       "      <td>0.350448</td>\n",
       "    </tr>\n",
       "  </tbody>\n",
       "</table>\n",
       "<p>5 rows × 24 columns</p>\n",
       "</div>"
      ],
      "text/plain": [
       "   Unnamed: 0  Unnamed: 0.1  Unnamed: 0.1.1  Unnamed: 0.1.1.1    id  host_id  \\\n",
       "0           0             0               0                 0  2515     2758   \n",
       "1           1             1               1                 1  2539     2787   \n",
       "2           2             2               2                 2  2595     2845   \n",
       "3           3             3               3                 3  3330     4177   \n",
       "4           5             5               5                 5  3831     4869   \n",
       "\n",
       "  zipcode neighbourhood_cleansed property_type  room_type  ...  price  \\\n",
       "0   10026                 Harlem     Apartment       1.01  ...   59.0   \n",
       "1   11218             Kensington     Apartment       1.01  ...  149.0   \n",
       "2   10018                Midtown     Apartment       1.00  ...  225.0   \n",
       "3   11206           Williamsburg     Apartment       1.01  ...   70.0   \n",
       "4   11238           Clinton Hill   Guest suite       1.00  ...   89.0   \n",
       "\n",
       "   number_of_reviews  review_scores_rating  availability_30  minimum_nights  \\\n",
       "0                173                  93.0               10               2   \n",
       "1                  8                  98.0               25               1   \n",
       "2                 36                  94.0               20               1   \n",
       "3                 34                  97.0                1               5   \n",
       "4                213                  91.0                0               1   \n",
       "\n",
       "   bathrooms  host_is_superhost  host_response_rate  positive  negative  \n",
       "0        1.0                0.0                 0.0  0.488144  0.303227  \n",
       "1        1.0                1.0                 0.0  0.600259  0.465383  \n",
       "2        1.0                0.0                80.0  0.552056  0.352874  \n",
       "3        1.0                0.0                 0.0  0.577553  0.357564  \n",
       "4        1.0                0.0               100.0  0.543768  0.350448  \n",
       "\n",
       "[5 rows x 24 columns]"
      ]
     },
     "execution_count": 38,
     "metadata": {},
     "output_type": "execute_result"
    }
   ],
   "source": [
    "new_df.head()"
   ]
  },
  {
   "cell_type": "code",
   "execution_count": null,
   "metadata": {},
   "outputs": [],
   "source": []
  }
 ],
 "metadata": {
  "kernelspec": {
   "display_name": "Python 3",
   "language": "python",
   "name": "python3"
  },
  "language_info": {
   "codemirror_mode": {
    "name": "ipython",
    "version": 3
   },
   "file_extension": ".py",
   "mimetype": "text/x-python",
   "name": "python",
   "nbconvert_exporter": "python",
   "pygments_lexer": "ipython3",
   "version": "3.7.2"
  }
 },
 "nbformat": 4,
 "nbformat_minor": 2
}
